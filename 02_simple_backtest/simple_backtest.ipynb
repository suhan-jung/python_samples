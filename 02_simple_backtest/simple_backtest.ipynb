{
 "cells": [
  {
   "cell_type": "markdown",
   "metadata": {},
   "source": [
    "# Simple backtest sample"
   ]
  },
  {
   "cell_type": "code",
   "execution_count": null,
   "metadata": {},
   "outputs": [],
   "source": [
    "import pandas_datareader.data as web\n",
    "import cufflinks as cf  # Cufflinks\n",
    "cf.set_config_file(offline=True)"
   ]
  },
  {
   "cell_type": "code",
   "execution_count": null,
   "metadata": {},
   "outputs": [],
   "source": [
    "# TESLA 주식 historical price\n",
    "tsla = web.DataReader(\"TSLA\", \"yahoo\")\n",
    "tsla.tail()"
   ]
  },
  {
   "cell_type": "code",
   "execution_count": null,
   "metadata": {},
   "outputs": [],
   "source": [
    "tsla.drop(['High','Low','Open','Close','Volume'],axis=1, inplace=True)\n",
    "tsla.head()"
   ]
  },
  {
   "cell_type": "code",
   "execution_count": null,
   "metadata": {},
   "outputs": [],
   "source": [
    "# 이동평균 계산\n",
    "SMA1 = 42\n",
    "SMA2 = 252\n",
    "tsla['SMA1'] = tsla['Adj Close'].rolling(SMA1).mean()\n",
    "tsla['SMA2'] = tsla['Adj Close'].rolling(SMA2).mean()\n",
    "tsla.iplot()"
   ]
  },
  {
   "cell_type": "code",
   "execution_count": null,
   "metadata": {},
   "outputs": [],
   "source": [
    "import matplotlib.pyplot as plt\n",
    "#plt.figure(figsize=(16,9)\n",
    "tsla.plot(figsize=(16,9))\n",
    "plt.grid()\n",
    "plt.show()"
   ]
  },
  {
   "cell_type": "code",
   "execution_count": null,
   "metadata": {},
   "outputs": [],
   "source": [
    "tsla.dropna(inplace=True)\n",
    "tsla.head()"
   ]
  },
  {
   "cell_type": "code",
   "execution_count": null,
   "metadata": {},
   "outputs": [],
   "source": [
    "import numpy as np\n",
    "tsla['Positions'] = np.where(tsla['SMA1'] > tsla['SMA2'], 1, -1)\n",
    "tsla.iplot(secondary_y='Positions')"
   ]
  },
  {
   "cell_type": "code",
   "execution_count": null,
   "metadata": {},
   "outputs": [],
   "source": [
    "# 일일 수익율 구하기\n",
    "tsla['RETURNS'] = np.log(tsla['Adj Close'] / tsla['Adj Close'].shift(1)) # log returns in vectorized fashion\n",
    "tsla['RETURNS'].head()"
   ]
  },
  {
   "cell_type": "code",
   "execution_count": null,
   "metadata": {},
   "outputs": [],
   "source": [
    "tsla.dropna(inplace=True)"
   ]
  },
  {
   "cell_type": "code",
   "execution_count": null,
   "metadata": {},
   "outputs": [],
   "source": [
    "tsla['RETURNS'].iplot(kind='histogram')"
   ]
  },
  {
   "cell_type": "code",
   "execution_count": null,
   "metadata": {},
   "outputs": [],
   "source": [
    "# 포지션(+1, -1)과 일일 수익율을 곱한 전략적용 포지션의 손익 산출\n",
    "tsla['STRATEGY'] = tsla.Positions.shift(1) * tsla.RETURNS\n",
    "tsla.dropna(inplace=True)"
   ]
  },
  {
   "cell_type": "code",
   "execution_count": null,
   "metadata": {},
   "outputs": [],
   "source": [
    "np.exp(tsla[['RETURNS', 'STRATEGY']].sum())"
   ]
  },
  {
   "cell_type": "code",
   "execution_count": null,
   "metadata": {},
   "outputs": [],
   "source": [
    "# 일별 누적수익율 plotting\n",
    "tsla[['RETURNS', 'STRATEGY']].cumsum().apply(np.exp).iplot()"
   ]
  },
  {
   "cell_type": "code",
   "execution_count": null,
   "metadata": {},
   "outputs": [],
   "source": []
  }
 ],
 "metadata": {
  "kernelspec": {
   "display_name": "Anaconda3 full",
   "language": "python",
   "name": "anaconda3"
  },
  "language_info": {
   "codemirror_mode": {
    "name": "ipython",
    "version": 3
   },
   "file_extension": ".py",
   "mimetype": "text/x-python",
   "name": "python",
   "nbconvert_exporter": "python",
   "pygments_lexer": "ipython3",
   "version": "3.7.7"
  }
 },
 "nbformat": 4,
 "nbformat_minor": 4
}
