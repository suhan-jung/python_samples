{
 "cells": [
  {
   "cell_type": "markdown",
   "metadata": {},
   "source": [
    "# zipline(백테스팅 라이브러리)을 활용한 백테스트 예제"
   ]
  },
  {
   "cell_type": "markdown",
   "metadata": {},
   "source": [
    "대상 자산의 일별 가격 데이터를 바탕으로 기초적인 몇가지 전략의 운용성과를 백테스트하는 예제입니다.\n",
    "\n",
    "<적용 전략>\n",
    " 1. Buy and Hold : 최초 거래일에 매수후 계속 보유\n",
    " 2. Simple Moving Average : 현재가격이 20일 이동평균을 상향돌파하면 매수, 하향돌파하면 매도\n",
    " 3. Moving Average Crossover : 단기(20일)이동평균선이 장기(100일)이동평균선을 상향돌파하면 매수, 하향돌파하면 매도\n",
    " 4. MACD : MACD가 MACD signal을 상향돌파하면 매수, 하향돌파하면 매도\n",
    " 5. RSI : RSI가 30% 하회시 과매도로 판단하여 매수, 70% 상회시 과매수로 판단하여 매도"
   ]
  },
  {
   "cell_type": "markdown",
   "metadata": {},
   "source": [
    "---"
   ]
  },
  {
   "cell_type": "markdown",
   "metadata": {},
   "source": [
    "zipline documentation : https://www.zipline.io/index.html"
   ]
  },
  {
   "cell_type": "code",
   "execution_count": null,
   "metadata": {},
   "outputs": [],
   "source": [
    "# 필요한 라이브러리 import\n",
    "from zipline.api import order_percent, order, record, symbol, set_benchmark, set_slippage, order_target\n",
    "from zipline.finance import commission, slippage\n",
    "import zipline\n",
    "\n",
    "import matplotlib.pyplot as plt\n",
    "from datetime import datetime\n",
    "import pandas as pd\n",
    "import numpy as np\n",
    "from collections import OrderedDict\n",
    "import pytz\n",
    "\n",
    "plt.style.use('seaborn')\n",
    "plt.rcParams['figure.figsize'] = [16, 4]"
   ]
  },
  {
   "cell_type": "code",
   "execution_count": null,
   "metadata": {},
   "outputs": [],
   "source": [
    "# csv file path 설정\n",
    "ktb_path = \"./csv/ktb.csv\"\n",
    "lktb_path = \"./csv/lktb.csv\"\n",
    "k200_path = \"./csv/k200.csv\"\n",
    "usdkrw_path = \"./csv/usdkrw.csv\"\n",
    "\n",
    "# pandas panel 생성을 위해 OrderdDict 형태로 3차원 데이터를 만들어줌\n",
    "csvs = OrderedDict()\n",
    "\n",
    "csvs['KTB'] = pd.read_csv(ktb_path, index_col=0, parse_dates=['date'])\n",
    "csvs['LKTB'] = pd.read_csv(lktb_path, index_col=0, parse_dates=['date'])\n",
    "csvs['K200'] = pd.read_csv(k200_path, index_col=0, parse_dates=['date'])\n",
    "csvs['USD'] = pd.read_csv(usdkrw_path, index_col=0, parse_dates=['date'])"
   ]
  },
  {
   "cell_type": "code",
   "execution_count": null,
   "metadata": {},
   "outputs": [],
   "source": [
    "csvs['KTB']['close'].plot(figsize=(16,4))"
   ]
  },
  {
   "cell_type": "code",
   "execution_count": null,
   "metadata": {},
   "outputs": [],
   "source": [
    "# pandas panel 생성\n",
    "data = pd.Panel(csvs)\n",
    "data.minor_axis = ['open','high','low','close','volume','dividend','split']\n",
    "data.major_axis = data.major_axis.tz_localize(pytz.utc) # 2018-01-02 -> 2018-01-02 00:00:00+00:00\n",
    "print(data)"
   ]
  },
  {
   "cell_type": "code",
   "execution_count": null,
   "metadata": {},
   "outputs": [],
   "source": [
    "# data(한국거래소 데이터)에 맞는 calendar 설정\n",
    "from trading_calendars import get_calendar\n",
    "trading_calendar=get_calendar('XKRX')\n",
    "# Start, End 일자 설정\n",
    "start=datetime(2018,1,2,0,0,0,0,pytz.utc)\n",
    "end = datetime(2019,12,30,0,0,0,0,pytz.utc)\n",
    "# 초기 자본 설정\n",
    "capital_base = 100000\n",
    "results = []"
   ]
  },
  {
   "cell_type": "markdown",
   "metadata": {},
   "source": [
    "## 1. Buy and Hold Strategies"
   ]
  },
  {
   "cell_type": "code",
   "execution_count": null,
   "metadata": {},
   "outputs": [],
   "source": [
    "# parameters \n",
    "SELECTED_STOCK = 'LKTB'\n",
    "\n",
    "# 주요 함수 설정\n",
    "def initialize(context):\n",
    "    set_benchmark(symbol(\"KTB\"))\n",
    "    context.asset = symbol(SELECTED_STOCK)\n",
    "    context.has_position = False\n",
    "    context.set_commission(commission.PerShare(cost=0.0, min_trade_cost=0))\n",
    "    context.set_slippage(slippage.FixedSlippage(spread=0))\n",
    "    \n",
    "def handle_data(context, data):\n",
    "    # trading logic\n",
    "    if not context.has_position:\n",
    "        # placing order, negative number for sale/short\n",
    "        order_percent(context.asset, 1)\n",
    "        # setting up a flag for holding a position\n",
    "        context.has_position = True\n",
    "        \n",
    "    # record price for further inspection\n",
    "    record(price=data.current(context.asset, 'price'))"
   ]
  },
  {
   "cell_type": "code",
   "execution_count": null,
   "metadata": {},
   "outputs": [],
   "source": [
    "results.append(zipline.run_algorithm(\n",
    "    start=start,\n",
    "    end=end,\n",
    "    initialize=initialize,\n",
    "    capital_base=100000,  # 기초자산 설정\n",
    "    handle_data=handle_data,\n",
    "    trading_calendar=trading_calendar,\n",
    "    data=data\n",
    "))"
   ]
  },
  {
   "cell_type": "code",
   "execution_count": null,
   "metadata": {},
   "outputs": [],
   "source": [
    "results[0].tail()"
   ]
  },
  {
   "cell_type": "code",
   "execution_count": null,
   "metadata": {},
   "outputs": [],
   "source": [
    "# Portfolio Value Plotting\n",
    "plt.title(\"Portfolio Value\", fontsize=16)\n",
    "results[0].portfolio_value.plot()\n",
    "plt.show()\n",
    "\n",
    "# print Final Portfolio Value\n",
    "print('Final portfolio value (including cash): {amount}{currency}'.format(\n",
    "    amount = np.round(results[0].portfolio_value[-1], 2), currency = \"￦\"))"
   ]
  },
  {
   "cell_type": "code",
   "execution_count": null,
   "metadata": {},
   "outputs": [],
   "source": [
    "# Asset Price Plotting\n",
    "plt.title(\"Asset Price\", fontsize=16)\n",
    "results[0].price.plot()\n",
    "\n",
    "# mark transactions\n",
    "perf_trans = results[0].loc[[t != [] for t in results[0].transactions]]\n",
    "buys = perf_trans.loc[[t[0]['amount'] >\n",
    "                       0 for t in perf_trans.transactions]]\n",
    "sells = perf_trans.loc[[t[0]['amount'] <\n",
    "                        0 for t in perf_trans.transactions]]\n",
    "plt.plot(buys.index, results[0].price.loc[buys.index], '^',\n",
    "           markersize=10, color='g', label='buy')\n",
    "plt.plot(sells.index, results[0].price.loc[sells.index],\n",
    "           'v', markersize=10, color='r', label='sell')\n",
    "plt.show()"
   ]
  },
  {
   "cell_type": "code",
   "execution_count": null,
   "metadata": {},
   "outputs": [],
   "source": [
    "# daily returns\n",
    "results[0].returns.plot()\n",
    "plt.title(\"Daily Returns\", fontsize=16)\n",
    "plt.legend()\n",
    "plt.show()\n"
   ]
  },
  {
   "cell_type": "markdown",
   "metadata": {},
   "source": [
    "## 2. Simple Moving Average"
   ]
  },
  {
   "cell_type": "code",
   "execution_count": null,
   "metadata": {},
   "outputs": [],
   "source": [
    "# parameters \n",
    "MA_PERIODS = 20\n",
    "SELECTED_STOCK = 'LKTB'\n",
    "\n",
    "# 주요 함수 설정\n",
    "def initialize(context):\n",
    "    set_benchmark(symbol('LKTB'))\n",
    "    context.asset = symbol(SELECTED_STOCK)\n",
    "    context.has_position = False\n",
    "    context.set_commission(commission.PerShare(cost=0.0, min_trade_cost=0))\n",
    "    context.set_slippage(slippage.FixedSlippage(spread=0))\n",
    "    \n",
    "def handle_data(context, data):\n",
    "    price_history = data.history(context.asset, fields=\"price\", bar_count=MA_PERIODS, frequency=\"1d\")\n",
    "    ma = price_history.mean()\n",
    "    \n",
    "    # cross up\n",
    "    if (price_history[-2] < ma) & (price_history[-1] > ma) & (not context.has_position):\n",
    "        order_percent(context.asset, 1.0)\n",
    "        context.has_position = True\n",
    "    # cross down\n",
    "    elif (price_history[-2] > ma) & (price_history[-1] < ma) & (context.has_position):\n",
    "        order_target(context.asset, 0)\n",
    "        context.has_position = False\n",
    "\n",
    "    record(price=data.current(context.asset, 'price'),\n",
    "           moving_average=ma)\n",
    "    \n",
    "results.append(zipline.run_algorithm(\n",
    "    start=start,\n",
    "    end=end,\n",
    "    initialize=initialize,\n",
    "    capital_base=100000,  # 기초자산 설정\n",
    "    handle_data=handle_data,\n",
    "    trading_calendar=trading_calendar,\n",
    "    data=data\n",
    "))"
   ]
  },
  {
   "cell_type": "code",
   "execution_count": null,
   "metadata": {},
   "outputs": [],
   "source": [
    "results[1][['price','moving_average']].plot(figsize=(16,9))\n",
    "plt.title(\"Simple Moving Average\", fontsize=16)\n",
    "\n",
    "# mark transactions\n",
    "perf_trans = results[1].loc[[t != [] for t in results[1].transactions]]\n",
    "buys = perf_trans.loc[[t[0]['amount'] > 0 for t in perf_trans.transactions]]\n",
    "sells = perf_trans.loc[[t[0]['amount'] < 0 for t in perf_trans.transactions]]\n",
    "plt.plot(buys.index, results[1].price.loc[buys.index], '^', markersize=10, color='g', label='buy')\n",
    "plt.plot(sells.index, results[1].price.loc[sells.index], 'v', markersize=10, color='r', label='sell')\n",
    "plt.legend()\n",
    "\n",
    "plt.show()"
   ]
  },
  {
   "cell_type": "code",
   "execution_count": null,
   "metadata": {},
   "outputs": [],
   "source": [
    "# Portfolio Value Plotting\n",
    "plt.title(\"Portfolio Value\", fontsize=16)\n",
    "results[1].portfolio_value.plot()\n",
    "plt.show()\n",
    "\n",
    "# print Final Portfolio Value\n",
    "print('Final portfolio value (including cash): {amount}{currency}'.format(\n",
    "    amount = np.round(results[1].portfolio_value[-1], 2), currency = \"￦\"))"
   ]
  },
  {
   "cell_type": "markdown",
   "metadata": {},
   "source": [
    "## 3. Moving Average Crossover"
   ]
  },
  {
   "cell_type": "code",
   "execution_count": null,
   "metadata": {},
   "outputs": [],
   "source": [
    "# parameters \n",
    "SELECTED_STOCK = 'LKTB'\n",
    "SLOW_MA_PERIODS = 100\n",
    "FAST_MA_PERIODS = 20\n",
    "\n",
    "def initialize(context):\n",
    "    \n",
    "    set_benchmark(symbol('LKTB'))\n",
    "    context.asset = symbol(SELECTED_STOCK)\n",
    "    context.has_position = False\n",
    "    context.set_commission(commission.PerShare(cost=0.0, min_trade_cost=0))\n",
    "    context.set_slippage(slippage.FixedSlippage(spread=0))\n",
    "    \n",
    "def handle_data(context, data):\n",
    "\n",
    "    fast_ma = data.history(context.asset, 'price', bar_count=FAST_MA_PERIODS, frequency=\"1d\").mean()\n",
    "    slow_ma = data.history(context.asset, 'price', bar_count=SLOW_MA_PERIODS, frequency=\"1d\").mean()\n",
    "\n",
    "    # Trading logic\n",
    "    if (fast_ma > slow_ma) & (not context.has_position):\n",
    "        order_percent(context.asset, 1.0)\n",
    "        context.has_position = True\n",
    "    elif (fast_ma < slow_ma) & (context.has_position):\n",
    "        order_target(context.asset, 0)\n",
    "        context.has_position = False\n",
    "\n",
    "    record(price=data.current(context.asset, 'price'),\n",
    "           fast_ma=fast_ma,\n",
    "           slow_ma=slow_ma)\n",
    "    \n",
    "results.append(zipline.run_algorithm(\n",
    "    start=start,\n",
    "    end=end,\n",
    "    initialize=initialize,\n",
    "    capital_base=100000,  # 기초자산 설정\n",
    "    handle_data=handle_data,\n",
    "    trading_calendar=trading_calendar,\n",
    "    data=data\n",
    "))"
   ]
  },
  {
   "cell_type": "code",
   "execution_count": null,
   "metadata": {},
   "outputs": [],
   "source": [
    "results[2][['price','fast_ma', 'slow_ma']].plot(figsize=(16,9))\n",
    "plt.suptitle(\"Moving Average Crossover\", fontsize=16)\n",
    "\n",
    "# mark transactions\n",
    "perf_trans = results[2].loc[[t != [] for t in results[2].transactions]]\n",
    "buys = perf_trans.loc[[t[0]['amount'] > 0 for t in perf_trans.transactions]]\n",
    "sells = perf_trans.loc[[t[0]['amount'] < 0 for t in perf_trans.transactions]]\n",
    "plt.plot(buys.index, results[2].price.loc[buys.index], '^', markersize=10, color='g', label='buy')\n",
    "plt.plot(sells.index, results[2].price.loc[sells.index], 'v', markersize=10, color='r', label='sell')\n",
    "plt.legend()\n",
    "\n",
    "plt.show()"
   ]
  },
  {
   "cell_type": "code",
   "execution_count": null,
   "metadata": {},
   "outputs": [],
   "source": [
    "# Portfolio Value Plotting\n",
    "plt.title(\"Portfolio Value\", fontsize=16)\n",
    "results[2].portfolio_value.plot()\n",
    "plt.show()\n",
    "\n",
    "# print Final Portfolio Value\n",
    "print('Final portfolio value (including cash): {amount}{currency}'.format(\n",
    "    amount = np.round(results[2].portfolio_value[-1], 2), currency = \"￦\"))"
   ]
  },
  {
   "cell_type": "markdown",
   "metadata": {},
   "source": [
    "## 4. MACD"
   ]
  },
  {
   "cell_type": "code",
   "execution_count": null,
   "metadata": {},
   "outputs": [],
   "source": [
    "import talib as ta\n",
    "\n",
    "# parameters ----\n",
    "SELECTED_STOCK = 'LKTB'\n",
    "\n",
    " #initialize the strategy \n",
    "def initialize(context):\n",
    "\n",
    "    set_benchmark(symbol('LKTB'))\n",
    "    context.asset = symbol(SELECTED_STOCK)\n",
    "    context.has_position = False\n",
    "    context.set_commission(commission.PerShare(cost=0.0, min_trade_cost=0))\n",
    "    context.set_slippage(slippage.FixedSlippage(spread=0))\n",
    "    \n",
    "def handle_data(context, data):\n",
    "    \n",
    "    price_history = data.history(context.asset, fields=\"price\", bar_count=34, frequency=\"1d\")\n",
    "    macd, macdsignal, macdhist = ta.MACD(price_history, 12, 26, 9) \n",
    "    \n",
    "    if (macdsignal[-1] < macd[-1]) and (not context.has_position):\n",
    "        order_percent(context.asset, 1.0)\n",
    "        context.has_position = True\n",
    "        \n",
    "    if (macdsignal[-1] > macd[-1]) and (context.has_position):\n",
    "        order_target(context.asset, 0)\n",
    "        context.has_position = False\n",
    "        \n",
    "    record(macd =  macd[-1], macdsignal = macdsignal[-1], macdhist = macdhist[-1], price=price_history[-1]) \n",
    "    \n",
    "results.append(zipline.run_algorithm(\n",
    "    start=start,\n",
    "    end=end,\n",
    "    initialize=initialize,\n",
    "    capital_base=100000,  # 기초자산 설정\n",
    "    handle_data=handle_data,\n",
    "    trading_calendar=trading_calendar,\n",
    "    data=data\n",
    "))"
   ]
  },
  {
   "cell_type": "code",
   "execution_count": null,
   "metadata": {},
   "outputs": [],
   "source": [
    "results[3][['macd', 'macdsignal']].plot(figsize=(16,9))\n",
    "plt.suptitle(\"MACD\", fontsize=16)\n",
    "\n",
    "# mark transactions\n",
    "perf_trans = results[3].loc[[t != [] for t in results[3].transactions]]\n",
    "buys = perf_trans.loc[[t[0]['amount'] > 0 for t in perf_trans.transactions]]\n",
    "sells = perf_trans.loc[[t[0]['amount'] < 0 for t in perf_trans.transactions]]\n",
    "plt.plot(buys.index, results[3].macd.loc[buys.index], '^', markersize=10, color='g', label='buy')\n",
    "plt.plot(sells.index, results[3].macd.loc[sells.index], 'v', markersize=10, color='r', label='sell')\n",
    "plt.legend()\n",
    "\n",
    "plt.show()"
   ]
  },
  {
   "cell_type": "code",
   "execution_count": null,
   "metadata": {},
   "outputs": [],
   "source": [
    "# Portfolio Value Plotting\n",
    "plt.title(\"Portfolio Value\", fontsize=16)\n",
    "results[3].portfolio_value.plot()\n",
    "plt.show()\n",
    "\n",
    "# print Final Portfolio Value\n",
    "print('Final portfolio value (including cash): {amount}{currency}'.format(\n",
    "    amount = np.round(results[3].portfolio_value[-1], 2), currency = \"￦\"))"
   ]
  },
  {
   "cell_type": "markdown",
   "metadata": {},
   "source": [
    "## 5. RSI"
   ]
  },
  {
   "cell_type": "code",
   "execution_count": null,
   "metadata": {},
   "outputs": [],
   "source": [
    "import talib as ta\n",
    "\n",
    "# parameters ----\n",
    "SELECTED_STOCK = 'LKTB'\n",
    "UPPER = 70\n",
    "LOWER = 30\n",
    "RSI_PERIOD = 14\n",
    "\n",
    "#initialize the strategy \n",
    "def initialize(context):\n",
    "\n",
    "    set_benchmark(symbol('LKTB'))\n",
    "    context.asset = symbol(SELECTED_STOCK)\n",
    "    context.has_position = False\n",
    "    context.set_commission(commission.PerShare(cost=0.0, min_trade_cost=0))\n",
    "    context.set_slippage(slippage.FixedSlippage(spread=0))\n",
    "    \n",
    "def handle_data(context, data):\n",
    "    \n",
    "    price_history = data.history(context.asset, fields=\"price\", bar_count=RSI_PERIOD+1, frequency=\"1d\")\n",
    "    rsi = ta.RSI(price_history, timeperiod=RSI_PERIOD)\n",
    "    \n",
    "    if rsi[-1] < LOWER and not context.has_position:\n",
    "        order_percent(context.asset, 1.0)\n",
    "        context.has_position = True\n",
    "      \n",
    "    if rsi[-1] > UPPER and context.has_position:\n",
    "        order_target(context.asset, 0)\n",
    "        context.has_position = False\n",
    "     \n",
    "    record(rsi=rsi[-1], price=price_history[-1]) \n",
    "    \n",
    "results.append(zipline.run_algorithm(\n",
    "    start=start,\n",
    "    end=end,\n",
    "    initialize=initialize,\n",
    "    capital_base=100000,  # 기초자산 설정\n",
    "    handle_data=handle_data,\n",
    "    trading_calendar=trading_calendar,\n",
    "    data=data\n",
    "))"
   ]
  },
  {
   "cell_type": "code",
   "execution_count": null,
   "metadata": {},
   "outputs": [],
   "source": [
    "results[4][['rsi']].plot(figsize=(16,9))\n",
    "plt.axhline(y=70, color='r')\n",
    "plt.axhline(y=30, color='g')\n",
    "\n",
    "plt.suptitle(\"RSI\", fontsize=16)\n",
    "\n",
    "# mark transactions\n",
    "perf_trans = results[4].loc[[t != [] for t in results[4].transactions]]\n",
    "buys = perf_trans.loc[[t[0]['amount'] > 0 for t in perf_trans.transactions]]\n",
    "sells = perf_trans.loc[[t[0]['amount'] < 0 for t in perf_trans.transactions]]\n",
    "plt.plot(buys.index, results[4].rsi.loc[buys.index], '^', markersize=10, color='g', label='buy')\n",
    "plt.plot(sells.index, results[4].rsi.loc[sells.index], 'v', markersize=10, color='r', label='sell')\n",
    "plt.legend()\n",
    "\n",
    "plt.show()"
   ]
  },
  {
   "cell_type": "code",
   "execution_count": null,
   "metadata": {},
   "outputs": [],
   "source": [
    "# Portfolio Value Plotting\n",
    "plt.title(\"Portfolio Value\", fontsize=16)\n",
    "results[4].portfolio_value.plot()\n",
    "plt.show()\n",
    "\n",
    "# print Final Portfolio Value\n",
    "print('Final portfolio value (including cash): {amount}{currency}'.format(\n",
    "    amount = np.round(results[4].portfolio_value[-1], 2), currency = \"￦\"))"
   ]
  },
  {
   "cell_type": "code",
   "execution_count": null,
   "metadata": {
    "jupyter": {
     "outputs_hidden": true
    }
   },
   "outputs": [],
   "source": [
    "#pyfolio report 생성\n",
    "import pyfolio as pf\n",
    "import numpy as np\n",
    "returns, positions, transactions = pf.utils.extract_rets_pos_txn_from_zipline(results[4])\n",
    "benchmark_period_return = results1['benchmark_period_return']\n",
    "# Convert benchmark returns to daily returns\n",
    "#daily_returns = (1 + benchmark_period_return) / (1 + benchmark_period_return.shift()) - 1\n",
    "daily_benchmark_returns = np.exp(np.log(benchmark_period_return + 1.0).diff()) - 1\n",
    "sheets = pf.create_full_tear_sheet(returns, positions=positions, transactions=transactions, benchmark_rets=daily_benchmark_returns)"
   ]
  },
  {
   "cell_type": "markdown",
   "metadata": {},
   "source": [
    "---"
   ]
  },
  {
   "cell_type": "code",
   "execution_count": null,
   "metadata": {},
   "outputs": [],
   "source": [
    "import empyrical as ep\n",
    "\n",
    "def get_performance_summary(returns):\n",
    "    '''\n",
    "    Calculate selected performance evaluation metrics using provided returns.\n",
    "    \n",
    "    Parameters\n",
    "    ------------\n",
    "    returns : pd.Series\n",
    "        Series of returns we want to evaluate\n",
    "\n",
    "    Returns\n",
    "    -----------\n",
    "    stats : pd.Series\n",
    "        The calculated performance metrics\n",
    "        \n",
    "    '''\n",
    "    stats = {'annualized_returns': ep.annual_return(returns),\n",
    "             'cumulative_returns': ep.cum_returns_final(returns),\n",
    "             'annual_volatility': ep.annual_volatility(returns),\n",
    "             'sharpe_ratio': ep.sharpe_ratio(returns),\n",
    "             'sortino_ratio': ep.sortino_ratio(returns),\n",
    "             'max_drawdown': ep.max_drawdown(returns)}\n",
    "    return pd.Series(stats)"
   ]
  },
  {
   "cell_type": "code",
   "execution_count": null,
   "metadata": {},
   "outputs": [],
   "source": [
    "perf = []\n",
    "for r in results:\n",
    "    perf.append(get_performance_summary(r.returns))\n",
    "\n",
    "perf_df = pd.DataFrame({'1.Buy and Hold': perf[0],\n",
    "                        '2.Simple Moving Average': perf[1],\n",
    "                        '3.Moving Average Crossover': perf[2],\n",
    "                        '4.MACD': perf[3],\n",
    "                        '5.RSI': perf[4]})\n",
    "perf_df.transpose()"
   ]
  },
  {
   "cell_type": "code",
   "execution_count": null,
   "metadata": {},
   "outputs": [],
   "source": []
  }
 ],
 "metadata": {
  "kernelspec": {
   "display_name": "Backtest with Zipline",
   "language": "python",
   "name": "backtest"
  },
  "language_info": {
   "codemirror_mode": {
    "name": "ipython",
    "version": 3
   },
   "file_extension": ".py",
   "mimetype": "text/x-python",
   "name": "python",
   "nbconvert_exporter": "python",
   "pygments_lexer": "ipython3",
   "version": "3.5.5"
  }
 },
 "nbformat": 4,
 "nbformat_minor": 4
}
