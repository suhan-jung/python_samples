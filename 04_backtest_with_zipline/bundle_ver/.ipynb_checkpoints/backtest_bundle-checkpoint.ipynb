{
 "cells": [
  {
   "cell_type": "markdown",
   "metadata": {},
   "source": [
    "# Backtesting trading strategies using `zipline` with LKTB `bundles`"
   ]
  },
  {
   "cell_type": "markdown",
   "metadata": {},
   "source": [
    "한국거래소에 상장된 국고채 10년물 일별 가격DATA를 바탕으로 기초적인 몇가지 전략을 적용한 운용성과를 백테스트하는 예제입니다. 한도는 1,000억이며 전략에 따라 한도의 100%씩 거래하도록 합니다. 비교할 Benchmark 는 국고채 10년물 자신으로 합니다.\n",
    "\n",
    "적용된 전략은 아래와 같습니다.\n",
    " 1. Buy and Hold : 최초 거래일에 매수후 계속 보유\n",
    " 2. Simple Moving Average : 현재가격이 20일 이동평균을 상향돌파하면 매수, 하향돌파하면 매도\n",
    " 3. Moving Average Crossover : 단기(20일)이동평균선이 장기(100일)이동평균선을 상향돌파하면 매수, 하향돌파하면 매도\n",
    " 4. MACD : MACD가 MACD signal을 상향돌파하면 매수, 하향돌파하면 매도\n",
    " 5. RSI : RSI가 30% 하회시 과매도로 판단하여 매수, 70% 상회시 과매수로 판단하여 매도"
   ]
  },
  {
   "cell_type": "markdown",
   "metadata": {},
   "source": [
    "---"
   ]
  },
  {
   "cell_type": "markdown",
   "metadata": {},
   "source": [
    "zipline documentation : https://www.zipline.io/index.html"
   ]
  },
  {
   "cell_type": "markdown",
   "metadata": {},
   "source": [
    "## Importing libraries"
   ]
  },
  {
   "cell_type": "markdown",
   "metadata": {},
   "source": [
    "사용할 여러 라이브러리들을 불러옵니다."
   ]
  },
  {
   "cell_type": "code",
   "execution_count": null,
   "metadata": {},
   "outputs": [],
   "source": [
    "%load_ext watermark\n",
    "%load_ext zipline\n",
    "\n",
    "%matplotlib inline\n",
    "%config InlineBackend.figure_format = 'retina' # 그래프를 더 높은 해상도로 출력\n",
    "\n",
    "import numpy as np\n",
    "import matplotlib.pyplot as plt\n",
    "import pandas as pd\n",
    "import zipline\n",
    "from trading_calendars import get_calendar\n",
    "# from yahoofinancials import YahooFinancials\n",
    "import warnings\n",
    "\n",
    "plt.style.use('seaborn')\n",
    "plt.rcParams['figure.figsize'] = [16, 9]\n",
    "plt.rcParams['figure.dpi'] = 200\n",
    "warnings.simplefilter(action='ignore', category=FutureWarning)\n",
    "\n",
    "import os\n",
    "os.environ['ZIPLINE_ROOT'] = '/home/dt/.zipline'"
   ]
  },
  {
   "cell_type": "markdown",
   "metadata": {},
   "source": [
    "---"
   ]
  },
  {
   "cell_type": "markdown",
   "metadata": {},
   "source": [
    "## Backtesting Strategies"
   ]
  },
  {
   "cell_type": "markdown",
   "metadata": {},
   "source": [
    "여러 가지 전략들을 백테스트합니다."
   ]
  },
  {
   "cell_type": "markdown",
   "metadata": {},
   "source": [
    "### 1. Buy And Hold"
   ]
  },
  {
   "cell_type": "code",
   "execution_count": null,
   "metadata": {
    "scrolled": true
   },
   "outputs": [],
   "source": [
    "%%zipline --start 2018-1-2 --end 2019-12-30 --capital-base 100000 --bundle krx_futures -o buy_and_hold.pkl --trading-calendar XKRX\n",
    "\n",
    "# imports\n",
    "from zipline.api import order_percent, order, record, symbol, set_benchmark\n",
    "from zipline.finance import commission\n",
    "\n",
    "# parameters\n",
    "SELECTED_STOCK = 'LKTB'\n",
    "# n_stocks_to_buy = 10 # order_percent 로 변경하며 주석처리\n",
    "\n",
    "def initialize(context):\n",
    "    set_benchmark(symbol('LKTB'))\n",
    "    context.asset = symbol(SELECTED_STOCK)\n",
    "    context.has_ordered = False\n",
    "    context.set_commission(commission.PerShare(cost=0.0, min_trade_cost=0))\n",
    "\n",
    "def handle_data(context, data):\n",
    "    \n",
    "    # trading logic\n",
    "    if not context.has_ordered:\n",
    "        # placing order, negative number for sale/short\n",
    "        order_percent(context.asset, 1)\n",
    "        # setting up a flag for holding a position\n",
    "        context.has_ordered = True\n",
    "        \n",
    "    # record price for further inspection\n",
    "    record(price=data.current(context.asset, 'price'))"
   ]
  },
  {
   "cell_type": "code",
   "execution_count": null,
   "metadata": {},
   "outputs": [],
   "source": [
    "# read the performance summary dataframe\n",
    "buy_and_hold_results = pd.read_pickle('buy_and_hold.pkl')\n",
    "buy_and_hold_results.to_csv(\"buy_and_hold.csv\")\n",
    "\n",
    "# import helper functions \n",
    "import qf_helper_functions as qf\n",
    "\n",
    "qf.visualize_results(buy_and_hold_results, 'Buy and Hold Strategy - LKTB Futures', 'KRW')\n",
    "buy_and_hold_perf = qf.get_performance_summary(buy_and_hold_results.returns)"
   ]
  },
  {
   "cell_type": "code",
   "execution_count": null,
   "metadata": {},
   "outputs": [],
   "source": [
    "import pyfolio as pf\n",
    "returns, positions, transactions = pf.utils.extract_rets_pos_txn_from_zipline(buy_and_hold_results)\n",
    "benchmark_period_return = buy_and_hold_results['benchmark_period_return']\n",
    "# Convert benchmark returns to daily returns\n",
    "#daily_returns = (1 + benchmark_period_return) / (1 + benchmark_period_return.shift()) - 1\n",
    "daily_benchmark_returns = np.exp(np.log(benchmark_period_return + 1.0).diff()) - 1\n",
    "sheets = pf.create_full_tear_sheet(returns, positions=positions, transactions=transactions, benchmark_rets=daily_benchmark_returns)"
   ]
  },
  {
   "cell_type": "markdown",
   "metadata": {},
   "source": [
    "### 2. Simple Moving Average"
   ]
  },
  {
   "cell_type": "code",
   "execution_count": null,
   "metadata": {},
   "outputs": [],
   "source": [
    "%%zipline --start 2018-1-2 --end 2019-12-30 --capital-base 100000 --bundle krx_futures -o simple_moving_average.pkl --trading-calendar XKRX\n",
    "\n",
    "# imports \n",
    "from zipline.api import order_percent, order, record, symbol, set_benchmark, set_slippage, order_target\n",
    "from zipline.finance import commission, slippage\n",
    "\n",
    "# parameters \n",
    "MA_PERIODS = 20\n",
    "SELECTED_STOCK = 'LKTB'\n",
    "\n",
    "def initialize(context):\n",
    "    \n",
    "    set_benchmark(symbol('LKTB'))\n",
    "    context.asset = symbol(SELECTED_STOCK)\n",
    "    context.has_position = False\n",
    "    context.set_commission(commission.PerShare(cost=0.0, min_trade_cost=0))\n",
    "    context.set_slippage(slippage.FixedSlippage(spread=0))\n",
    "\n",
    "def handle_data(context, data):\n",
    "    \n",
    "    price_history = data.history(context.asset, fields=\"price\", bar_count=MA_PERIODS, frequency=\"1d\")\n",
    "    ma = price_history.mean()\n",
    "    \n",
    "    # cross up\n",
    "    if (price_history[-2] < ma) & (price_history[-1] > ma) & (not context.has_position):\n",
    "        order_percent(context.asset, 1.0)\n",
    "        context.has_position = True\n",
    "    # cross down\n",
    "    elif (price_history[-2] > ma) & (price_history[-1] < ma) & (context.has_position):\n",
    "        order_target(context.asset, 0)\n",
    "        context.has_position = False\n",
    "\n",
    "    record(price=data.current(context.asset, 'price'),\n",
    "           moving_average=ma)"
   ]
  },
  {
   "cell_type": "code",
   "execution_count": null,
   "metadata": {},
   "outputs": [],
   "source": [
    "sma_results = pd.read_pickle('simple_moving_average.pkl')\n",
    "fig, ax = plt.subplots()\n",
    "\n",
    "# asset\n",
    "sma_results[['price', 'moving_average']].plot(ax=ax)\n",
    "ax.set_ylabel('price in ￦')\n",
    "\n",
    "# mark transactions\n",
    "perf_trans = sma_results.loc[[t != [] for t in sma_results.transactions]]\n",
    "buys = perf_trans.loc[[t[0]['amount'] > 0 for t in perf_trans.transactions]]\n",
    "sells = perf_trans.loc[[t[0]['amount'] < 0 for t in perf_trans.transactions]]\n",
    "ax.plot(buys.index, sma_results.price.loc[buys.index], '^', markersize=10, color='g', label='buy')\n",
    "ax.plot(sells.index, sma_results.price.loc[sells.index], 'v', markersize=10, color='r', label='sell')\n",
    "ax.legend()\n",
    "\n",
    "fig.suptitle('Simple Moving Average Strategy - LKTB Futures', fontsize=16)\n",
    "plt.legend()\n",
    "plt.show()\n",
    "\n",
    "# import helper functions \n",
    "import qf_helper_functions as qf\n",
    "\n",
    "qf.visualize_results(sma_results, 'Simple Moving Average Strategy - LKTB Futures', '￦')\n",
    "sma_perf = qf.get_performance_summary(sma_results.returns)"
   ]
  },
  {
   "cell_type": "code",
   "execution_count": null,
   "metadata": {},
   "outputs": [],
   "source": [
    "import pyfolio as pf\n",
    "returns, positions, transactions = pf.utils.extract_rets_pos_txn_from_zipline(sma_results)\n",
    "benchmark_period_return = sma_results['benchmark_period_return']\n",
    "# Convert benchmark returns to daily returns\n",
    "#daily_returns = (1 + benchmark_period_return) / (1 + benchmark_period_return.shift()) - 1\n",
    "daily_benchmark_returns = np.exp(np.log(benchmark_period_return + 1.0).diff()) - 1\n",
    "sheets = pf.create_full_tear_sheet(returns, positions=positions, transactions=transactions, benchmark_rets=daily_benchmark_returns)"
   ]
  },
  {
   "cell_type": "markdown",
   "metadata": {},
   "source": [
    "### 3. Moving Average Crossover"
   ]
  },
  {
   "cell_type": "code",
   "execution_count": null,
   "metadata": {},
   "outputs": [],
   "source": [
    "%%zipline --start 2018-1-2 --end 2019-12-30 --capital-base 100000 --bundle krx_futures -o moving_average_crossover.pkl --trading-calendar XKRX\n",
    "\n",
    "# imports \n",
    "from zipline.api import order_percent, order, record, symbol, set_benchmark, set_slippage, order_target\n",
    "from zipline.finance import commission, slippage\n",
    "\n",
    "# parameters \n",
    "SELECTED_STOCK = 'LKTB'\n",
    "SLOW_MA_PERIODS = 100\n",
    "FAST_MA_PERIODS = 20\n",
    "\n",
    "def initialize(context):\n",
    "    \n",
    "    set_benchmark(symbol('LKTB'))\n",
    "    context.asset = symbol(SELECTED_STOCK)\n",
    "    context.has_position = False\n",
    "    context.set_commission(commission.PerShare(cost=0.0, min_trade_cost=0))\n",
    "    context.set_slippage(slippage.FixedSlippage(spread=0))\n",
    "    \n",
    "def handle_data(context, data):\n",
    "\n",
    "    fast_ma = data.history(context.asset, 'price', bar_count=FAST_MA_PERIODS, frequency=\"1d\").mean()\n",
    "    slow_ma = data.history(context.asset, 'price', bar_count=SLOW_MA_PERIODS, frequency=\"1d\").mean()\n",
    "\n",
    "    # Trading logic\n",
    "    if (fast_ma > slow_ma) & (not context.has_position):\n",
    "        order_percent(context.asset, 1.0)\n",
    "        context.has_position = True\n",
    "    elif (fast_ma < slow_ma) & (context.has_position):\n",
    "        order_target(context.asset, 0)\n",
    "        context.has_position = False\n",
    "\n",
    "    record(price=data.current(context.asset, 'price'),\n",
    "           fast_ma=fast_ma,\n",
    "           slow_ma=slow_ma)"
   ]
  },
  {
   "cell_type": "code",
   "execution_count": null,
   "metadata": {},
   "outputs": [],
   "source": [
    "mac_results = pd.read_pickle('moving_average_crossover.pkl')\n",
    "fig, ax = plt.subplots()\n",
    "\n",
    "# asset\n",
    "mac_results[['price', 'fast_ma', 'slow_ma']].plot(ax=ax)\n",
    "ax.set_ylabel('price in KRW')\n",
    "\n",
    "# mark transactions\n",
    "perf_trans = mac_results.loc[[t != [] for t in mac_results.transactions]]\n",
    "buys = perf_trans.loc[[t[0]['amount'] > 0 for t in perf_trans.transactions]]\n",
    "sells = perf_trans.loc[[t[0]['amount'] < 0 for t in perf_trans.transactions]]\n",
    "ax.plot(buys.index, mac_results.price.loc[buys.index], '^', markersize=10, color='g', label='buy')\n",
    "ax.plot(sells.index, mac_results.price.loc[sells.index], 'v', markersize=10, color='r', label='sell')\n",
    "ax.legend()\n",
    "\n",
    "fig.suptitle('Moving Average Crossover Strategy - LKTB Futures', fontsize=16)\n",
    "plt.legend()\n",
    "plt.show()\n",
    "\n",
    "# import helper functions \n",
    "import qf_helper_functions as qf\n",
    "\n",
    "qf.visualize_results(mac_results, 'Moving Average Crossover Strategy - LKTB Futures', 'KRW')\n",
    "mac_perf = qf.get_performance_summary(mac_results.returns)"
   ]
  },
  {
   "cell_type": "code",
   "execution_count": null,
   "metadata": {},
   "outputs": [],
   "source": [
    "import pyfolio as pf\n",
    "returns, positions, transactions = pf.utils.extract_rets_pos_txn_from_zipline(mac_results)\n",
    "benchmark_period_return = mac_results['benchmark_period_return']\n",
    "# Convert benchmark returns to daily returns\n",
    "#daily_returns = (1 + benchmark_period_return) / (1 + benchmark_period_return.shift()) - 1\n",
    "daily_benchmark_returns = np.exp(np.log(benchmark_period_return + 1.0).diff()) - 1\n",
    "sheets = pf.create_full_tear_sheet(returns, positions=positions, transactions=transactions, benchmark_rets=daily_benchmark_returns)"
   ]
  },
  {
   "cell_type": "markdown",
   "metadata": {},
   "source": [
    "### 4. MACD"
   ]
  },
  {
   "cell_type": "code",
   "execution_count": null,
   "metadata": {},
   "outputs": [],
   "source": [
    "%%zipline --start 2018-1-2 --end 2019-12-30 --capital-base 100000 --bundle krx_futures -o macd.pkl --trading-calendar XKRX\n",
    "\n",
    "# imports ----\n",
    "from zipline.api import order_percent, order, record, symbol, set_benchmark, set_slippage, order_target\n",
    "from zipline.finance import commission, slippage\n",
    "import matplotlib.pyplot as plt\n",
    "import talib as ta\n",
    "\n",
    "# parameters ----\n",
    "SELECTED_STOCK = 'LKTB'\n",
    "\n",
    " #initialize the strategy \n",
    "def initialize(context):\n",
    "\n",
    "    set_benchmark(symbol('LKTB'))\n",
    "    context.asset = symbol(SELECTED_STOCK)\n",
    "    context.has_position = False\n",
    "    context.set_commission(commission.PerShare(cost=0.0, min_trade_cost=0))\n",
    "    context.set_slippage(slippage.FixedSlippage(spread=0))\n",
    "    \n",
    "def handle_data(context, data):\n",
    "    \n",
    "    price_history = data.history(context.asset, fields=\"price\", bar_count=34, frequency=\"1d\")\n",
    "    macd, macdsignal, macdhist = ta.MACD(price_history, 12, 26, 9) \n",
    "    \n",
    "    if (macdsignal[-1] < macd[-1]) and (not context.has_position):\n",
    "        order_percent(context.asset, 1.0)\n",
    "        context.has_position = True\n",
    "        \n",
    "    if (macdsignal[-1] > macd[-1]) and (context.has_position):\n",
    "        order_target(context.asset, 0)\n",
    "        context.has_position = False\n",
    "        \n",
    "    record(macd =  macd[-1], macdsignal = macdsignal[-1], macdhist = macdhist[-1], price=price_history[-1]) "
   ]
  },
  {
   "cell_type": "code",
   "execution_count": null,
   "metadata": {},
   "outputs": [],
   "source": [
    "macd_results = pd.read_pickle('macd.pkl')\n",
    "\n",
    "fig, ax = plt.subplots()\n",
    "\n",
    "# asset\n",
    "macd_results[['macd', 'macdsignal']].plot(ax=ax)\n",
    "ax.set_ylabel('price in ￦')\n",
    "\n",
    "# mark transactions\n",
    "perf_trans = macd_results.loc[[t != [] for t in macd_results.transactions]]\n",
    "buys = perf_trans.loc[[t[0]['amount'] > 0 for t in perf_trans.transactions]]\n",
    "sells = perf_trans.loc[[t[0]['amount'] < 0 for t in perf_trans.transactions]]\n",
    "ax.plot(buys.index, macd_results.macd.loc[buys.index], '^', markersize=10, color='g', label='buy')\n",
    "ax.plot(sells.index, macd_results.macd.loc[sells.index], 'v', markersize=10, color='r', label='sell')\n",
    "ax.legend()\n",
    "\n",
    "fig.suptitle('MACD Strategy - LKTB Futures', fontsize=16)\n",
    "plt.show()\n",
    "\n",
    "# import helper functions \n",
    "import qf_helper_functions as qf\n",
    "\n",
    "qf.visualize_results(macd_results, 'MACD Strategy - LKTB Futures', 'KRW')\n",
    "macd_perf = qf.get_performance_summary(macd_results.returns)"
   ]
  },
  {
   "cell_type": "code",
   "execution_count": null,
   "metadata": {},
   "outputs": [],
   "source": [
    "import pyfolio as pf\n",
    "returns, positions, transactions = pf.utils.extract_rets_pos_txn_from_zipline(macd_results)\n",
    "benchmark_period_return = macd_results['benchmark_period_return']\n",
    "# Convert benchmark returns to daily returns\n",
    "#daily_returns = (1 + benchmark_period_return) / (1 + benchmark_period_return.shift()) - 1\n",
    "daily_benchmark_returns = np.exp(np.log(benchmark_period_return + 1.0).diff()) - 1\n",
    "sheets = pf.create_full_tear_sheet(returns, positions=positions, transactions=transactions, benchmark_rets=daily_benchmark_returns)"
   ]
  },
  {
   "cell_type": "markdown",
   "metadata": {},
   "source": [
    "### 5. RSI"
   ]
  },
  {
   "cell_type": "code",
   "execution_count": null,
   "metadata": {},
   "outputs": [],
   "source": [
    "%%zipline --start 2018-1-2 --end 2019-12-30 --capital-base 100000 --bundle krx_futures -o rsi.pkl --trading-calendar XKRX\n",
    "\n",
    "# imports ----\n",
    "from zipline.api import order_percent, order, record, symbol, set_benchmark, set_slippage, order_target\n",
    "from zipline.finance import commission, slippage\n",
    "import matplotlib.pyplot as plt\n",
    "import talib as ta\n",
    "\n",
    "# parameters ----\n",
    "SELECTED_STOCK = 'LKTB'\n",
    "UPPER = 70\n",
    "LOWER = 30\n",
    "RSI_PERIOD = 14\n",
    "\n",
    "#initialize the strategy \n",
    "def initialize(context):\n",
    "\n",
    "    set_benchmark(symbol('LKTB'))\n",
    "    context.asset = symbol(SELECTED_STOCK)\n",
    "    context.has_position = False\n",
    "    context.set_commission(commission.PerShare(cost=0.0, min_trade_cost=0))\n",
    "    context.set_slippage(slippage.FixedSlippage(spread=0))\n",
    "    \n",
    "def handle_data(context, data):\n",
    "    \n",
    "    price_history = data.history(context.asset, fields=\"price\", bar_count=RSI_PERIOD+1, frequency=\"1d\")\n",
    "    rsi = ta.RSI(price_history, timeperiod=RSI_PERIOD)\n",
    "    \n",
    "    if rsi[-1] < LOWER and not context.has_position:\n",
    "        order_percent(context.asset, 1.0)\n",
    "        context.has_position = True\n",
    "      \n",
    "    if rsi[-1] > UPPER and context.has_position:\n",
    "        order_target(context.asset, 0)\n",
    "        context.has_position = False\n",
    "     \n",
    "    record(rsi=rsi[-1], price=price_history[-1]) "
   ]
  },
  {
   "cell_type": "code",
   "execution_count": null,
   "metadata": {},
   "outputs": [],
   "source": [
    "rsi_results = pd.read_pickle('rsi.pkl')\n",
    "\n",
    "#fig, ax = plt.subplots(1, 1, sharex=True, figsize=[16, 9])\n",
    "fig, ax = plt.subplots()\n",
    "\n",
    "# asset\n",
    "rsi_results[['rsi']].plot(ax=ax)\n",
    "ax.axhline(y=70, color='r')\n",
    "ax.axhline(y=30, color='g')\n",
    "\n",
    "# mark transactions\n",
    "perf_trans = rsi_results.loc[[t != [] for t in rsi_results.transactions]]\n",
    "buys = perf_trans.loc[[t[0]['amount'] > 0 for t in perf_trans.transactions]]\n",
    "sells = perf_trans.loc[[t[0]['amount'] < 0 for t in perf_trans.transactions]]\n",
    "ax.plot(buys.index, rsi_results.rsi.loc[buys.index], '^', markersize=10, color='g', label='buy')\n",
    "ax.plot(sells.index, rsi_results.rsi.loc[sells.index], 'v', markersize=10, color='r', label='sell')\n",
    "ax.legend()\n",
    "\n",
    "fig.suptitle('RSI Strategy - LKTB Futures', fontsize=16)\n",
    "plt.show()\n",
    "\n",
    "# import helper functions \n",
    "import qf_helper_functions as qf\n",
    "\n",
    "qf.visualize_results(rsi_results, 'RSI Strategy - LKTB Futures', 'KRW')\n",
    "rsi_perf = qf.get_performance_summary(rsi_results.returns)"
   ]
  },
  {
   "cell_type": "code",
   "execution_count": null,
   "metadata": {},
   "outputs": [],
   "source": [
    "import pyfolio as pf\n",
    "returns, positions, transactions = pf.utils.extract_rets_pos_txn_from_zipline(rsi_results)\n",
    "benchmark_period_return = rsi_results['benchmark_period_return']\n",
    "# Convert benchmark returns to daily returns\n",
    "#daily_returns = (1 + benchmark_period_return) / (1 + benchmark_period_return.shift()) - 1\n",
    "daily_benchmark_returns = np.exp(np.log(benchmark_period_return + 1.0).diff()) - 1\n",
    "sheets = pf.create_full_tear_sheet(returns, positions=positions, transactions=transactions, benchmark_rets=daily_benchmark_returns)"
   ]
  },
  {
   "cell_type": "markdown",
   "metadata": {},
   "source": [
    "---"
   ]
  },
  {
   "cell_type": "markdown",
   "metadata": {},
   "source": [
    "## Evaluating the performance"
   ]
  },
  {
   "cell_type": "code",
   "execution_count": null,
   "metadata": {},
   "outputs": [],
   "source": [
    "perf_df = pd.DataFrame({'1.Buy and Hold': buy_and_hold_perf,\n",
    "                        '2.Simple Moving Average': sma_perf,\n",
    "                        '3.Moving Average Crossover': mac_perf,\n",
    "                        '4.MACD': macd_perf,\n",
    "                        '5.RSI': rsi_perf})\n",
    "perf_df.transpose()"
   ]
  },
  {
   "cell_type": "markdown",
   "metadata": {},
   "source": [
    "MACD 전략이 연환산 수익율 5.8%, 최대 drawdown -2.2% 및 샤프지수 등으로 종합 우수함."
   ]
  },
  {
   "cell_type": "code",
   "execution_count": null,
   "metadata": {},
   "outputs": [],
   "source": []
  }
 ],
 "metadata": {
  "kernelspec": {
   "display_name": "Backtest with Zipline",
   "language": "python",
   "name": "backtest"
  },
  "language_info": {
   "codemirror_mode": {
    "name": "ipython",
    "version": 3
   },
   "file_extension": ".py",
   "mimetype": "text/x-python",
   "name": "python",
   "nbconvert_exporter": "python",
   "pygments_lexer": "ipython3",
   "version": "3.5.5"
  }
 },
 "nbformat": 4,
 "nbformat_minor": 4
}
