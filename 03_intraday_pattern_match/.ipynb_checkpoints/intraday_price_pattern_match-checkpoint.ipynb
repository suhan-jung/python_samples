{
 "cells": [
  {
   "cell_type": "markdown",
   "metadata": {},
   "source": [
    "# Intraday_price_pattern matching"
   ]
  },
  {
   "cell_type": "markdown",
   "metadata": {},
   "source": [
    "국채선물 10년물의 전일자 일중 가격변화 패턴을 바탕으로 과거의 패턴과 비교하여,\n",
    "가장 유사도가 높은 n개의 일자들의 다음날 가격변화를 차트로 보여주는 예제입니다.\n",
    "\n",
    "\n",
    "2011년~2019년의 국채선물 10년물 1분단위 데이터를 기반으로 n분단위로 resample해서 비교합니다."
   ]
  },
  {
   "cell_type": "code",
   "execution_count": null,
   "metadata": {},
   "outputs": [],
   "source": [
    "# 필요한 라이브러리들을 불러옵니다.\n",
    "import pandas as pd\n",
    "import numpy as np\n",
    "import matplotlib.pyplot as plt\n",
    "from scipy import stats\n",
    "import math"
   ]
  },
  {
   "cell_type": "code",
   "execution_count": null,
   "metadata": {},
   "outputs": [],
   "source": [
    "# 10년 국채선물 1분단위 데이터를 불러옵니다.\n",
    "df = pd.read_csv(\"LKTB_infomax_1m_20200521.csv\")\n",
    "df"
   ]
  },
  {
   "cell_type": "code",
   "execution_count": null,
   "metadata": {},
   "outputs": [],
   "source": [
    "# 분리되어 있는 날짜(DATE)와 시간(TIME)열을 합치는 작업\n",
    "df['DATETIME'] = pd.to_datetime(df['DATE'] + ' ' + df['TIME'])\n",
    "df = df.drop(['DATE', 'TIME'], axis=1)\n",
    "df = df.set_index('DATETIME')\n",
    "df"
   ]
  },
  {
   "cell_type": "code",
   "execution_count": null,
   "metadata": {},
   "outputs": [],
   "source": [
    "# 주요 변수 세팅\n",
    "daycount_match = 2 # 매칭할 대상 기간 : 이틀치를 가지고 비교합니다.\n",
    "daycount_forecast = 1 # 전망할 날짜 수 :  다음날 하루의 패턴을 보여줍니다.\n",
    "resample_minutes = 10 # 가격주기 : 10분 단위 데이터를 기반으로 합니다."
   ]
  },
  {
   "cell_type": "code",
   "execution_count": null,
   "metadata": {},
   "outputs": [],
   "source": [
    "# 1분단위로 되어있는 데이터를 resample_minutes(10) 주기로 resample 해준다.\n",
    "df = df.resample(str(resample_minutes) + 'T', closed='right').agg({\n",
    "    'OPEN': 'first',\n",
    "    'HIGH': 'max',\n",
    "    'LOW': 'min',\n",
    "    'CLOSE': 'last',\n",
    "    'VOLUME': 'sum',\n",
    "    'OPENINTEREST': 'last'\n",
    "    }).dropna()\n",
    "df"
   ]
  },
  {
   "cell_type": "code",
   "execution_count": null,
   "metadata": {},
   "outputs": [],
   "source": [
    "# 날짜의 목록을 만들어준다.\n",
    "list_day = df.resample('D') \\\n",
    "    .last() \\\n",
    "        .dropna() \\\n",
    "            .drop(['OPEN', 'HIGH', 'LOW', 'VOLUME','OPENINTEREST'], axis=1) \\\n",
    "                .reset_index()['DATETIME'] \\\n",
    "                    .dt.date \\\n",
    "                        .to_numpy().tolist()\n",
    "print(len(list_day), list_day[-1])"
   ]
  },
  {
   "cell_type": "code",
   "execution_count": null,
   "metadata": {},
   "outputs": [],
   "source": [
    "# 매칭할 날짜 설정\n",
    "x_end_date = list_day[-1] # data중 마지막 날짜로 세팅하는 경우\n",
    "\n",
    "# %% 날짜 list에서 패턴 매칭대상 start_date, end_date 가져오기\n",
    "x_start_date = list_day[(list_day.index(x_end_date) - daycount_match + 1)]\n",
    "\n",
    "print(x_start_date, x_end_date)"
   ]
  },
  {
   "cell_type": "code",
   "execution_count": null,
   "metadata": {},
   "outputs": [],
   "source": [
    "# 패턴매칭해볼 대상인 기간의 dataframe\n",
    "df_x = df.loc[x_start_date.isoformat():x_end_date.isoformat()]\n",
    "df_x"
   ]
  },
  {
   "cell_type": "code",
   "execution_count": null,
   "metadata": {},
   "outputs": [],
   "source": [
    "# 패턴매칭대상 가격 moves 만들기\n",
    "np_moves_target = df_x['CLOSE'].to_numpy()\n",
    "\n",
    "np_moves_target"
   ]
  },
  {
   "cell_type": "code",
   "execution_count": null,
   "metadata": {},
   "outputs": [],
   "source": [
    "# 가져온 moves 를 z 표준화\n",
    "np_moves_target_z = stats.zscore(np_moves_target)\n",
    "np_moves_target_z"
   ]
  },
  {
   "cell_type": "code",
   "execution_count": null,
   "metadata": {},
   "outputs": [],
   "source": [
    "# 매칭할 전체 가격 moves의 개수\n",
    "len(np_moves_target_z)"
   ]
  },
  {
   "cell_type": "code",
   "execution_count": null,
   "metadata": {},
   "outputs": [],
   "source": [
    "# %% 기준일과 매칭할 날짜 수 setting\n",
    "daycount_match = 2 # 매칭할 대상 기간 : 2 days\n",
    "daycount_forecast = 1 # 전망할 날짜 수 :  1 day\n",
    "resample_minutes = 10 # 가격주기 : 10 mins\n",
    "\n",
    "date_split = '2019-01-01'"
   ]
  },
  {
   "cell_type": "code",
   "execution_count": null,
   "metadata": {},
   "outputs": [],
   "source": [
    "# df를 이틀치씩(daycount_match)으로 분리하기위한 날짜 목록(시작일,종료일) list를 만든다.\n",
    "list_start_date = []\n",
    "list_end_date = []\n",
    "\n",
    "for i in range(len(list_day)-daycount_match + 1):\n",
    "    if list_day[i + daycount_match - 1] < x_end_date: #자기 자신 패턴을 피하기 위해\n",
    "        list_start_date.append(list_day[i])\n",
    "        list_end_date.append(list_day[i + daycount_match - 1])"
   ]
  },
  {
   "cell_type": "code",
   "execution_count": null,
   "metadata": {},
   "outputs": [],
   "source": [
    "print(list_start_date[-1], list_end_date[-1])"
   ]
  },
  {
   "cell_type": "code",
   "execution_count": null,
   "metadata": {},
   "outputs": [],
   "source": [
    "# 위의 날짜목록에 해당하는 가격변화(moves)를 분리해낸다.\n",
    "list_moves = []\n",
    "for i in range(len(list_start_date)):\n",
    "# for i in range(10):\n",
    "    list_moves.append(df.loc[list_start_date[i].isoformat():list_end_date[i].isoformat()]['CLOSE'].to_numpy())\n",
    "\n",
    "print(len(list_moves))\n"
   ]
  },
  {
   "cell_type": "code",
   "execution_count": null,
   "metadata": {},
   "outputs": [],
   "source": [
    "# DTW(Dynamic Time Warping) 두개의 시계열 데이터간의 유사도를 계산하는 DTW 알고리즘을 사용\n",
    "list_dtw = []\n",
    "\n",
    "from dtw import accelerated_dtw\n",
    "from tqdm import tqdm\n",
    "\n",
    "# 대상패턴과 각 가격변화들의 dtw거리를 산출하여 list_dtw 리스트를 만든다.\n",
    "for np_moves_data in tqdm(list_moves):\n",
    "    d, _, _, _ = accelerated_dtw(np_moves_target_z, stats.zscore(np_moves_data), 'euclidean')\n",
    "    list_dtw.append(d)"
   ]
  },
  {
   "cell_type": "code",
   "execution_count": null,
   "metadata": {},
   "outputs": [],
   "source": [
    "for i in range(10):\n",
    "    print(list_dtw[i])"
   ]
  },
  {
   "cell_type": "code",
   "execution_count": null,
   "metadata": {},
   "outputs": [],
   "source": [
    "# dtw값이 적은 순서대로 순위 매기기(stats.rankdata)\n",
    "list_rank = stats.rankdata(list_dtw).tolist()\n",
    "\n",
    "for i in range(10):\n",
    "    print(list_rank[i])"
   ]
  },
  {
   "cell_type": "code",
   "execution_count": null,
   "metadata": {},
   "outputs": [],
   "source": [
    "# 기간, dtw거리, 순위가 모두 포함된 결과 dataframe 만들기\n",
    "df_result = pd.DataFrame(list(zip(list_start_date, list_end_date, list_dtw, list_rank)),\n",
    "                         columns = ['start', 'end', 'dtw', 'rank'])\n",
    "df_result"
   ]
  },
  {
   "cell_type": "code",
   "execution_count": null,
   "metadata": {},
   "outputs": [],
   "source": [
    "# rank가 낮은것(유사도가 높은것)부터 순서대로 10(max_rank)개 차트를 그립니다.\n",
    "max_rank = 10\n",
    "\n",
    "f1 = plt.figure(figsize=(15, 10))\n",
    "plt.grid(b=True)\n",
    "\n",
    "# 하루중 장 시간이 달랐던 적이 있어서(장 30분 연장, 1월2일 등) 맞춰주기 위한 조정\n",
    "minutes_per_day = 405 \n",
    "points_per_day = math.ceil(minutes_per_day / resample_minutes)\n",
    "points_before = points_per_day * daycount_match\n",
    "points_after = points_per_day * daycount_forecast\n",
    "\n",
    "x = np.linspace(-points_before + 1,points_after, points_before + points_after )\n",
    "\n",
    "for rank in range(1,max_rank+1):\n",
    "    index = list_rank.index(rank)\n",
    "    dtw = list_dtw[index]\n",
    "    moves_before = df.loc[list_start_date[index].isoformat():list_end_date[index].isoformat()]['CLOSE'].to_numpy()\n",
    "    moves_after = df.loc[list_day[list_day.index(list_end_date[index]) + 1].isoformat():\n",
    "                         list_day[min(list_day.index(list_end_date[index]) + daycount_forecast, len(list_day) - 1)].isoformat()]['CLOSE'].to_numpy()\n",
    "    pivot_price = moves_before[-1]\n",
    "    moves_before_scaled = moves_before - pivot_price\n",
    "    moves_after_scaled = moves_after - pivot_price\n",
    "    moves = np.concatenate((\n",
    "        [np.nan]*(points_before - len(moves_before_scaled)),\n",
    "        moves_before_scaled,\n",
    "        moves_after_scaled,\n",
    "        [np.nan]*(points_after - len(moves_after_scaled))\n",
    "        ))\n",
    "    plt.plot(x,moves,  label=(list_end_date[index].isoformat(),rank, round(dtw,1)))\n",
    "\n",
    "# %%\n",
    "\n",
    "# target moves plotting\n",
    "pivot_price_target = np_moves_target[-1]\n",
    "moves_target_before_scaled = np_moves_target - pivot_price_target\n",
    "moves_target_after_scaled = []\n",
    "moves_target_scaled = np.concatenate((\n",
    "    [np.nan]*(points_before-len(moves_target_before_scaled)),\n",
    "    moves_target_before_scaled,\n",
    "    moves_target_after_scaled,\n",
    "    [np.nan]*(points_after-len(moves_target_after_scaled))\n",
    "    ))\n",
    "\n",
    "plt.plot(x, moves_target_scaled,'r-', label=x_end_date, linewidth=3.0)\n",
    "plt.legend(loc='best')\n",
    "plt.show()"
   ]
  },
  {
   "cell_type": "markdown",
   "metadata": {},
   "source": [
    "유사도가 높은 것부터 일자, 순위, dtw거리 를 나타냅니다."
   ]
  },
  {
   "cell_type": "code",
   "execution_count": null,
   "metadata": {},
   "outputs": [],
   "source": []
  }
 ],
 "metadata": {
  "kernelspec": {
   "display_name": "Anaconda3 full",
   "language": "python",
   "name": "anaconda3"
  },
  "language_info": {
   "codemirror_mode": {
    "name": "ipython",
    "version": 3
   },
   "file_extension": ".py",
   "mimetype": "text/x-python",
   "name": "python",
   "nbconvert_exporter": "python",
   "pygments_lexer": "ipython3",
   "version": "3.7.7"
  }
 },
 "nbformat": 4,
 "nbformat_minor": 4
}
