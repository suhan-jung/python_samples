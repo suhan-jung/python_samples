{
 "cells": [
  {
   "cell_type": "markdown",
   "metadata": {},
   "source": [
    "# Python Fundamentals"
   ]
  },
  {
   "cell_type": "markdown",
   "metadata": {},
   "source": [
    "## Basic Data Types\n",
    "* Integer\n",
    "* Floating Number\n",
    "* Boolean\n",
    "* Character"
   ]
  },
  {
   "cell_type": "markdown",
   "metadata": {},
   "source": [
    "### Numeric Data Types"
   ]
  },
  {
   "cell_type": "code",
   "execution_count": null,
   "metadata": {
    "ExecuteTime": {
     "end_time": "2019-11-18T04:22:48.978272Z",
     "start_time": "2019-11-18T04:22:48.973294Z"
    }
   },
   "outputs": [],
   "source": [
    "a = 123\n",
    "b = 123.45\n",
    "c = 0o34\n",
    "d = 0x2A\n",
    "\n",
    "print(type(a),type(b),type(c),type(d))"
   ]
  },
  {
   "cell_type": "code",
   "execution_count": null,
   "metadata": {
    "ExecuteTime": {
     "end_time": "2019-11-18T04:22:03.743980Z",
     "start_time": "2019-11-18T04:22:03.738993Z"
    }
   },
   "outputs": [],
   "source": [
    "print(a,b,c,d)"
   ]
  },
  {
   "cell_type": "markdown",
   "metadata": {},
   "source": [
    "#### Operators for Numeric Data Types"
   ]
  },
  {
   "cell_type": "code",
   "execution_count": null,
   "metadata": {
    "ExecuteTime": {
     "end_time": "2019-11-18T04:26:45.808492Z",
     "start_time": "2019-11-18T04:26:45.804494Z"
    }
   },
   "outputs": [],
   "source": [
    "a = 7\n",
    "b = 3\n",
    "print(a**b)\n",
    "print(a%b)\n",
    "print(a//b)"
   ]
  },
  {
   "cell_type": "code",
   "execution_count": null,
   "metadata": {
    "ExecuteTime": {
     "end_time": "2019-11-18T04:29:33.952632Z",
     "start_time": "2019-11-18T04:29:33.947645Z"
    }
   },
   "outputs": [],
   "source": [
    "type(32/32)"
   ]
  },
  {
   "cell_type": "markdown",
   "metadata": {},
   "source": [
    "### Boolean Data Type"
   ]
  },
  {
   "cell_type": "code",
   "execution_count": null,
   "metadata": {
    "ExecuteTime": {
     "end_time": "2019-11-18T04:57:25.879267Z",
     "start_time": "2019-11-18T04:57:25.873282Z"
    },
    "scrolled": true
   },
   "outputs": [],
   "source": [
    "a = 7\n",
    "b = 3\n",
    "print(a==b)\n",
    "print(a!=b)\n",
    "print(\"aaa\">\"bbb\")\n",
    "print(\"aaa\"<\"bbb\")\n",
    "print(1<5<7)\n",
    "print(1<5<4)\n",
    "print(type(True))"
   ]
  },
  {
   "cell_type": "markdown",
   "metadata": {},
   "source": [
    "#### The order of operators: not > and > or\n",
    "a or not b and c \n",
    "\n",
    "= (a or ((not b) and c))"
   ]
  },
  {
   "cell_type": "markdown",
   "metadata": {},
   "source": [
    "### Character Data Type"
   ]
  },
  {
   "cell_type": "code",
   "execution_count": null,
   "metadata": {
    "ExecuteTime": {
     "end_time": "2019-11-18T05:01:59.624033Z",
     "start_time": "2019-11-18T05:01:59.619060Z"
    }
   },
   "outputs": [],
   "source": [
    "num_three = 3\n",
    "char_three = \"3\"\n",
    "print(num_three == char_three)"
   ]
  },
  {
   "cell_type": "markdown",
   "metadata": {},
   "source": [
    "#### Character to Numeric Conversion"
   ]
  },
  {
   "cell_type": "code",
   "execution_count": null,
   "metadata": {
    "ExecuteTime": {
     "end_time": "2019-11-18T05:02:59.318171Z",
     "start_time": "2019-11-18T05:02:59.313190Z"
    }
   },
   "outputs": [],
   "source": [
    "print(ord(\"A\"))\n",
    "print(ord(\"a\"))\n",
    "print(chr(97))\n",
    "print(chr(65))"
   ]
  },
  {
   "cell_type": "markdown",
   "metadata": {},
   "source": [
    "## Container Data Types (Collection Data Types)\n",
    "* Tuple\n",
    "* String\n",
    "* List\n",
    "* Dictionary\n",
    "* Set"
   ]
  },
  {
   "cell_type": "markdown",
   "metadata": {},
   "source": [
    "### List Data Type"
   ]
  },
  {
   "cell_type": "markdown",
   "metadata": {},
   "source": [
    "#### List Manipulation"
   ]
  },
  {
   "cell_type": "code",
   "execution_count": null,
   "metadata": {
    "ExecuteTime": {
     "end_time": "2019-11-19T04:36:43.024159Z",
     "start_time": "2019-11-19T04:36:43.018174Z"
    }
   },
   "outputs": [],
   "source": [
    "a = [1,2,3]\n",
    "a[2] = 4\n",
    "print(a)\n",
    "\n",
    "a[1:2] = ['a','b','c']\n",
    "print(a)\n",
    "\n",
    "a[1:3] = []\n",
    "print(a)\n",
    "\n",
    "del a[1]\n",
    "print(a)"
   ]
  },
  {
   "cell_type": "markdown",
   "metadata": {},
   "source": [
    "#### Built-In Functions for List"
   ]
  },
  {
   "cell_type": "code",
   "execution_count": null,
   "metadata": {
    "ExecuteTime": {
     "end_time": "2019-11-19T04:40:08.512039Z",
     "start_time": "2019-11-19T04:40:08.503063Z"
    }
   },
   "outputs": [],
   "source": [
    "x = []\n",
    "print(type(x))\n",
    "\n",
    "x = ['ham', 4, 2.2]\n",
    "print(x)\n",
    "\n",
    "x.append(5)\n",
    "print(x)\n",
    "\n",
    "x.insert(1, 3.1415)\n",
    "print(x)\n",
    "\n",
    "print(x.pop(1))\n",
    "print(x)\n",
    "\n",
    "print(len(x))\n",
    "print(len(\"words\"))\n",
    "\n",
    "a = [1,4,3,2]\n",
    "a.sort()\n",
    "print(a)\n",
    "\n",
    "a = ['a','c','b']\n",
    "a.reverse()\n",
    "print(a)\n",
    "print(a.index('b'))\n",
    "\n",
    "a = [1,2,3,1,2,3]\n",
    "a.remove(3)\n",
    "print(a)\n",
    "a.count(1)\n",
    "a.extend([4,5])\n",
    "print(a)"
   ]
  },
  {
   "cell_type": "code",
   "execution_count": null,
   "metadata": {
    "ExecuteTime": {
     "end_time": "2019-11-18T05:12:32.694143Z",
     "start_time": "2019-11-18T05:12:32.688159Z"
    }
   },
   "outputs": [],
   "source": [
    "x = \"ham\"\n",
    "print(type(x))\n",
    "\n",
    "y = list(x)\n",
    "print(y)\n",
    "print(type(y))\n",
    "\n",
    "print(\"s\" in \"something\")"
   ]
  },
  {
   "cell_type": "markdown",
   "metadata": {},
   "source": [
    "#### Some Operators for List Data Type"
   ]
  },
  {
   "cell_type": "code",
   "execution_count": null,
   "metadata": {
    "ExecuteTime": {
     "end_time": "2019-11-18T05:15:24.800486Z",
     "start_time": "2019-11-18T05:15:24.792506Z"
    }
   },
   "outputs": [],
   "source": [
    "print([1,2]+[3,4])\n",
    "print([1,2] * 3)\n",
    "\n",
    "grades = ['A', 'B', 'C', 'D', 'F']\n",
    "print(grades[0])\n",
    "print(grades[2:4])\n",
    "print(len(grades))"
   ]
  },
  {
   "cell_type": "markdown",
   "metadata": {},
   "source": [
    "### String Data Type"
   ]
  },
  {
   "cell_type": "markdown",
   "metadata": {},
   "source": [
    "#### Indexing"
   ]
  },
  {
   "cell_type": "code",
   "execution_count": null,
   "metadata": {
    "ExecuteTime": {
     "end_time": "2019-11-19T02:32:51.031655Z",
     "start_time": "2019-11-19T02:32:51.023677Z"
    }
   },
   "outputs": [],
   "source": [
    "greet = \"Hello Bob\"\n",
    "print(greet[0])\n",
    "print(greet[-1])\n",
    "print(greet[-2])\n",
    "print(greet[0:3])\n",
    "print(greet[:3])\n",
    "print(greet[5:])\n",
    "print(greet[:])\n",
    "print(greet[:-3])"
   ]
  },
  {
   "cell_type": "markdown",
   "metadata": {},
   "source": [
    "#### Operators"
   ]
  },
  {
   "cell_type": "code",
   "execution_count": null,
   "metadata": {
    "ExecuteTime": {
     "end_time": "2019-11-18T05:21:31.073056Z",
     "start_time": "2019-11-18T05:21:31.069033Z"
    }
   },
   "outputs": [],
   "source": [
    "print(\"a\"+\"b\")\n",
    "print(\"a\"*3)\n",
    "print(len(\"bbb\"))"
   ]
  },
  {
   "cell_type": "markdown",
   "metadata": {},
   "source": [
    "#### split()"
   ]
  },
  {
   "cell_type": "code",
   "execution_count": null,
   "metadata": {
    "ExecuteTime": {
     "end_time": "2019-11-18T05:23:12.382610Z",
     "start_time": "2019-11-18T05:23:12.376625Z"
    },
    "scrolled": true
   },
   "outputs": [],
   "source": [
    "a = \"Hello string methods!\"\n",
    "print(a.split())\n",
    "print(a)\n",
    "\n",
    "print(\"32,24,25,57\".split(\",\"))\n",
    "print(\"abcPdefPghi\".split(\"P\"))\n",
    "print(list(\"CMU\"))"
   ]
  },
  {
   "cell_type": "markdown",
   "metadata": {},
   "source": [
    "#### Computations"
   ]
  },
  {
   "cell_type": "code",
   "execution_count": null,
   "metadata": {
    "ExecuteTime": {
     "end_time": "2019-11-19T04:10:11.130986Z",
     "start_time": "2019-11-19T04:10:11.125998Z"
    }
   },
   "outputs": [],
   "source": [
    "x = 'ham'\n",
    "y = x + 'sandwich'\n",
    "print(y)\n",
    "print(\"sand\" in y)\n",
    "\n",
    "z = 10\n",
    "print(y + str(z))"
   ]
  },
  {
   "cell_type": "markdown",
   "metadata": {},
   "source": [
    "#### Multi-Line String"
   ]
  },
  {
   "cell_type": "code",
   "execution_count": null,
   "metadata": {
    "ExecuteTime": {
     "end_time": "2019-11-19T02:38:31.050199Z",
     "start_time": "2019-11-19T02:38:31.046202Z"
    }
   },
   "outputs": [],
   "source": [
    "multiline = \"Life is too short\\nYou need python\"\n",
    "print(multiline)\n",
    "\n",
    "multiline2 = '''\n",
    "Life is too short\n",
    "You need python\n",
    "'''\n",
    "print(multiline2)"
   ]
  },
  {
   "cell_type": "markdown",
   "metadata": {},
   "source": [
    "#### String Formatting\n",
    "\n",
    "코드|설명\n",
    "------|------\n",
    "%s|문자열\n",
    "%c|문자1개\n",
    "%d|정수\n",
    "%f|부동소수\n",
    "%o|8진수\n",
    "%x|16진수\n",
    "%%|Literal %(문자 %자체)"
   ]
  },
  {
   "cell_type": "code",
   "execution_count": null,
   "metadata": {
    "ExecuteTime": {
     "end_time": "2019-11-19T04:24:53.535551Z",
     "start_time": "2019-11-19T04:24:53.529567Z"
    }
   },
   "outputs": [],
   "source": [
    "print(\"I have %s apples\" % 3)\n",
    "print(\"rate is %s\" % 3.234)\n",
    "\n",
    "print(\"Error is %d%%.\" % 98)\n",
    "\n",
    "number = 10\n",
    "day = \"three\"\n",
    "print(\"I ate %d apples. so I was sick for %s days.\" %(number, day))\n",
    "\n",
    "print(\"%10s\"%\"hi\") # s앞에 10 blanks\n",
    "print(\"%-10sjane.\"%\"hi\") # s뒤에 10 blanks\n",
    "print(\"%0.4f\" % 3.4213423) # 소수점 4자리까지만 표현해서 string으로 만들어라.\n",
    "print(\"%10.4f\" % 3.4213423) # 소수점 4자리까지만 표현해서 총 10개의 char string으로 만들어라"
   ]
  },
  {
   "cell_type": "code",
   "execution_count": null,
   "metadata": {
    "ExecuteTime": {
     "end_time": "2019-11-19T04:27:37.670322Z",
     "start_time": "2019-11-19T04:27:37.665367Z"
    }
   },
   "outputs": [],
   "source": [
    "str1 = \"I eat {0} apples\".format(3)\n",
    "\n",
    "str2 = \"I eat {0} apples\".format(\"five\")\n",
    "\n",
    "number, day = 10, \"three\"\n",
    "str3 = \"I ate {0} apples. so I was sick for {1} days.\".format(number, day)\n",
    "\n",
    "print(str1)\n",
    "print(str2)\n",
    "print(str3)"
   ]
  },
  {
   "cell_type": "markdown",
   "metadata": {},
   "source": [
    "#### Escape Code\n",
    "* \\n 줄바꿈\n",
    "* \\t 탭\n",
    "* \\\\ 문자\"\\\"\n",
    "* \\', \\\" 인용부호\n",
    "* \\r 캐리지리턴\n",
    "* \\f 폼 피드\n",
    "* \\a 벨 소리\n",
    "* \\b 백스페이스\n",
    "* \\000 널문자"
   ]
  },
  {
   "cell_type": "markdown",
   "metadata": {},
   "source": [
    "#### Built-In Functions for String\n",
    "* s.index()\n",
    "* s.replace(oldsub, newsub)\n",
    "* s.title()\n",
    "* s.center(width)\n",
    "* s.rfind(sub)\n",
    "* s.ljust(width)\n",
    "* s.rjust(width)"
   ]
  },
  {
   "cell_type": "code",
   "execution_count": null,
   "metadata": {
    "ExecuteTime": {
     "end_time": "2019-11-19T04:30:10.067767Z",
     "start_time": "2019-11-19T04:30:10.062772Z"
    }
   },
   "outputs": [],
   "source": [
    "a = \"Life is too short\"\n",
    "print(a.index('t'))\n",
    "#print(a.index('k')) #error\n",
    "a.replace(\"Life\", \"Your leg\")\n",
    "a=\",\"\n",
    "print(a.join('abcd'))"
   ]
  },
  {
   "cell_type": "markdown",
   "metadata": {},
   "source": [
    "#### String vs List"
   ]
  },
  {
   "cell_type": "code",
   "execution_count": null,
   "metadata": {
    "ExecuteTime": {
     "end_time": "2019-11-18T05:35:26.268802Z",
     "start_time": "2019-11-18T05:35:26.262847Z"
    }
   },
   "outputs": [],
   "source": [
    "univ_name = \"Seoul National Univ\" #Strings are always sequences of characters\n",
    "myList = [1, \"Spam\", 4, \"U\", [1, 7], {1, 7}]\n",
    "print(myList)\n",
    "\n",
    "myList = [34, 26, 15, 10]\n",
    "print(myList[2])\n",
    "myList[2] = 0 #Lists are mutable\n",
    "print(myList)\n",
    "\n",
    "myString = \"Hello World\"\n",
    "print(myString[2])\n",
    "#myString[2] = \"p\" #Strings are immutable (error)\n",
    "myString = \"Hi World\" #This is OK\n",
    "print(myString)"
   ]
  },
  {
   "cell_type": "markdown",
   "metadata": {},
   "source": [
    "### Tuple Data Type"
   ]
  },
  {
   "cell_type": "code",
   "execution_count": null,
   "metadata": {
    "ExecuteTime": {
     "end_time": "2019-11-18T05:45:54.792407Z",
     "start_time": "2019-11-18T05:45:54.782461Z"
    }
   },
   "outputs": [],
   "source": [
    "t1 = ()\n",
    "t2 = (1,)\n",
    "t3 = ('a',1, 3, ['ab','cd'])\n",
    "\n",
    "print(t3[2])\n",
    "t3[2] = 10 #tuple is immutable"
   ]
  },
  {
   "cell_type": "markdown",
   "metadata": {},
   "source": [
    "### Set Data Type"
   ]
  },
  {
   "cell_type": "code",
   "execution_count": null,
   "metadata": {
    "ExecuteTime": {
     "end_time": "2019-11-18T05:49:54.315514Z",
     "start_time": "2019-11-18T05:49:54.309522Z"
    }
   },
   "outputs": [],
   "source": [
    "s1 = {1, 2, 3}\n",
    "l1 = list(s1)\n",
    "print(s1)\n",
    "print(l1)\n",
    "\n",
    "s2 = set(\"Hello\")\n",
    "print(s2)\n",
    "#print(s2[1]) #Set is not subscriptable\n",
    "\n",
    "s1 = {1, 2, 3, 4, 5, 6}\n",
    "s2 = {4, 5, 6, 7, 8, 9}\n",
    "print(s1&s2)\n",
    "print(s1.intersection(s2))\n",
    "print(s1|s2)\n",
    "print(s1.union(s2))\n",
    "print(s1-s2)\n",
    "print(s1.difference(s2))"
   ]
  },
  {
   "cell_type": "code",
   "execution_count": null,
   "metadata": {
    "ExecuteTime": {
     "end_time": "2019-11-19T06:09:51.170973Z",
     "start_time": "2019-11-19T06:09:51.164988Z"
    }
   },
   "outputs": [],
   "source": [
    "s1 = {1, 2, 3}\n",
    "s1.add(4)\n",
    "print(s1)\n",
    "\n",
    "s1.update([5,6,7])\n",
    "print(s1)\n",
    "\n",
    "s1.remove(2)\n",
    "print(s1)\n",
    "\n",
    "s1.pop() # unpredictable!\n",
    "print(s1)\n",
    "\n",
    "s1.discard(2) # does not crash!"
   ]
  },
  {
   "cell_type": "markdown",
   "metadata": {},
   "source": [
    "### Dictionary Data Type"
   ]
  },
  {
   "cell_type": "code",
   "execution_count": null,
   "metadata": {
    "ExecuteTime": {
     "end_time": "2019-11-19T06:15:41.965147Z",
     "start_time": "2019-11-19T06:15:41.956149Z"
    },
    "scrolled": true
   },
   "outputs": [],
   "source": [
    "dic = {'name':'pey', 'phone':'010-1234-5678', 'birth':'1991-10-11'}\n",
    "print(dic)\n",
    "print(dic['name'])\n",
    "\n",
    "dic['address'] = 'Seoul'\n",
    "print(dic)\n",
    "\n",
    "del dic['phone']\n",
    "print(dic)\n",
    "\n",
    "print(dic.keys())\n",
    "print(dic.values())\n",
    "\n",
    "for k in dic.keys():\n",
    "    print(k)\n",
    "    \n",
    "print(dic.items())\n",
    "\n",
    "for item in dic.items():\n",
    "    print(item)\n",
    "    \n",
    "print('name' in dic)"
   ]
  },
  {
   "cell_type": "markdown",
   "metadata": {},
   "source": [
    "### Type Conversions"
   ]
  },
  {
   "cell_type": "code",
   "execution_count": null,
   "metadata": {
    "ExecuteTime": {
     "end_time": "2019-11-19T04:51:06.095748Z",
     "start_time": "2019-11-19T04:51:06.085775Z"
    }
   },
   "outputs": [],
   "source": [
    "a = int(4.5)\n",
    "b = int(4.9)\n",
    "\n",
    "c = round(3.9)\n",
    "d = round(2.5)\n",
    "e = round(3.5)\n",
    "f = round(-3.5)\n",
    "\n",
    "g = str(8)\n",
    "\n",
    "\n",
    "print(a, b, c, d, e, f, g)"
   ]
  },
  {
   "cell_type": "markdown",
   "metadata": {},
   "source": [
    "### More on Assignment"
   ]
  },
  {
   "cell_type": "code",
   "execution_count": null,
   "metadata": {
    "ExecuteTime": {
     "end_time": "2019-11-19T04:53:18.388756Z",
     "start_time": "2019-11-19T04:53:18.382744Z"
    }
   },
   "outputs": [],
   "source": [
    "a = 3\n",
    "b = a\n",
    "a = 4\n",
    "print(b)\n",
    "\n",
    "a = \"SNU\"\n",
    "b = a\n",
    "a = \"CMU\"\n",
    "print(b)\n",
    "\n",
    "# Int, Float, Char, String, Boolean, Tuple 같은 Immutable Data Type의 값들은\n",
    "# x = y 형태의 assignment에서 물리적인 복제(copy)를 한다.\n",
    "a is b"
   ]
  },
  {
   "cell_type": "code",
   "execution_count": null,
   "metadata": {
    "ExecuteTime": {
     "end_time": "2019-11-19T04:53:26.465252Z",
     "start_time": "2019-11-19T04:53:26.458263Z"
    }
   },
   "outputs": [],
   "source": [
    "# List, Set, Dictionary 등 mutable data들은 x=y 형태의 assignment에서 논리적인 복제(aliasing)를 한다.\n",
    "a = [1,2,3]\n",
    "b = a\n",
    "a[1] = 4\n",
    "print(a)\n",
    "print(b)\n",
    "a is b"
   ]
  },
  {
   "cell_type": "code",
   "execution_count": null,
   "metadata": {
    "ExecuteTime": {
     "end_time": "2019-11-19T04:55:47.374491Z",
     "start_time": "2019-11-19T04:55:47.367491Z"
    },
    "scrolled": true
   },
   "outputs": [],
   "source": [
    "# List, Set, Dictionary 들을 물리적 복제(copy) 하려면 copy.copy()를 이용한다.\n",
    "a = [1,2,3]\n",
    "b = a[:]\n",
    "a[1] = 4\n",
    "print(a)\n",
    "print(b)\n",
    "a is b\n",
    "\n",
    "c = [1,2,3]\n",
    "from copy import copy\n",
    "d = copy(c)\n",
    "print(c)\n",
    "print(d)"
   ]
  },
  {
   "cell_type": "code",
   "execution_count": null,
   "metadata": {
    "ExecuteTime": {
     "end_time": "2019-11-19T04:56:55.890753Z",
     "start_time": "2019-11-19T04:56:55.886774Z"
    }
   },
   "outputs": [],
   "source": [
    "import sys\n",
    "print(sys.getrefcount(3))\n",
    "a = 3\n",
    "b = 3\n",
    "c = 3\n",
    "print(sys.getrefcount(3))"
   ]
  },
  {
   "cell_type": "markdown",
   "metadata": {},
   "source": [
    "### * and **"
   ]
  },
  {
   "cell_type": "code",
   "execution_count": null,
   "metadata": {
    "ExecuteTime": {
     "end_time": "2019-11-19T06:17:24.662624Z",
     "start_time": "2019-11-19T06:17:24.657614Z"
    }
   },
   "outputs": [],
   "source": [
    "data = (1,2,3)\n",
    "print(data)\n",
    "print(*data)"
   ]
  },
  {
   "cell_type": "code",
   "execution_count": null,
   "metadata": {
    "ExecuteTime": {
     "end_time": "2019-11-19T06:20:50.096497Z",
     "start_time": "2019-11-19T06:20:50.090513Z"
    },
    "scrolled": true
   },
   "outputs": [],
   "source": [
    "def sum(a,b):\n",
    "    return a+b\n",
    "\n",
    "values = (1,2)\n",
    "#print(sum(values)) # error!\n",
    "print(sum(*values))\n",
    "\n",
    "values = {'a':1,'b':2}\n",
    "print(sum(*values))\n",
    "print(sum(**values)) # will be executed as sum(a=1,b=2)"
   ]
  },
  {
   "cell_type": "code",
   "execution_count": null,
   "metadata": {
    "ExecuteTime": {
     "end_time": "2019-11-19T06:24:42.566854Z",
     "start_time": "2019-11-19T06:24:42.561895Z"
    }
   },
   "outputs": [],
   "source": [
    "def sum_many(*args): # 여러개의 입력값이 들어오는 것을 기대\n",
    "    sum = 0\n",
    "    print(args)\n",
    "    for i in args:\n",
    "        sum = sum + i\n",
    "    return sum\n",
    "\n",
    "print(sum_many(1,2,3))"
   ]
  },
  {
   "cell_type": "code",
   "execution_count": null,
   "metadata": {
    "ExecuteTime": {
     "end_time": "2019-11-19T07:38:44.630283Z",
     "start_time": "2019-11-19T07:38:44.623303Z"
    }
   },
   "outputs": [],
   "source": [
    "def sum_mul(choice, *args):\n",
    "    if choice == \"sum\":\n",
    "        result = 0\n",
    "        for i in args:\n",
    "            result += i\n",
    "    elif choice == \"mul\":\n",
    "        result = 1\n",
    "        for i in args:\n",
    "            result *= i\n",
    "    else:\n",
    "        result = \"your choice is incorrect.\"\n",
    "    \n",
    "    return result\n",
    "\n",
    "print(sum_mul('sum', 1,2,3,4,5))\n",
    "print(sum_mul('mul', 1,2,3,4,5))\n",
    "print(sum_mul('diff', 1,2,3,4,5))"
   ]
  },
  {
   "cell_type": "code",
   "execution_count": null,
   "metadata": {
    "ExecuteTime": {
     "end_time": "2019-11-19T07:41:29.790939Z",
     "start_time": "2019-11-19T07:41:29.783958Z"
    }
   },
   "outputs": [],
   "source": [
    "def sum(*values, **options): # **는 Parameter=Value 형태임\n",
    "    s = 0\n",
    "    for i in values:\n",
    "        s += i\n",
    "    if \"neg\" in options:\n",
    "        if options[\"neg\"]:\n",
    "            s = -s\n",
    "    return s\n",
    "\n",
    "print(sum(1,2,3,4,5, neg=True))\n",
    "print(sum(1,2,3,4,5, neg=False))"
   ]
  },
  {
   "cell_type": "markdown",
   "metadata": {},
   "source": [
    "## Elements of Programs"
   ]
  },
  {
   "cell_type": "markdown",
   "metadata": {},
   "source": [
    "### keyword 'def' / input()"
   ]
  },
  {
   "cell_type": "code",
   "execution_count": null,
   "metadata": {
    "ExecuteTime": {
     "end_time": "2019-11-18T07:52:05.362195Z",
     "start_time": "2019-11-18T07:52:05.347208Z"
    }
   },
   "outputs": [],
   "source": [
    "def f2c():\n",
    "    celsius = eval(input(\"what is the Celsius temperature? : \"))\n",
    "    fahrenheit = (9/5) * celsius + 32\n",
    "    print(\"The temperature is \", fahrenheit, \" degrees Fahrenheit.\")"
   ]
  },
  {
   "cell_type": "markdown",
   "metadata": {},
   "source": [
    "### Identifiers\n",
    "* Variable names\n",
    "* Function names\n",
    "* Reserved words"
   ]
  },
  {
   "cell_type": "markdown",
   "metadata": {},
   "source": [
    "### print()"
   ]
  },
  {
   "cell_type": "code",
   "execution_count": null,
   "metadata": {
    "ExecuteTime": {
     "end_time": "2019-11-18T08:01:59.715332Z",
     "start_time": "2019-11-18T08:01:59.709348Z"
    }
   },
   "outputs": [],
   "source": [
    "print(\"Life\" \"is\" \"short\")\n",
    "print(\"Life\", \"is\", \"short\")\n",
    "\n",
    "for i in range(5):\n",
    "    print(i)\n",
    "    \n",
    "for i in range(5):\n",
    "    print(i, end=\" \")"
   ]
  },
  {
   "cell_type": "markdown",
   "metadata": {},
   "source": [
    "### Special Characters"
   ]
  },
  {
   "cell_type": "code",
   "execution_count": null,
   "metadata": {
    "ExecuteTime": {
     "end_time": "2019-11-18T08:03:05.088967Z",
     "start_time": "2019-11-18T08:03:05.085976Z"
    }
   },
   "outputs": [],
   "source": [
    "x = \"te\\n\\nst\\ttest\"\n",
    "print(x)"
   ]
  },
  {
   "cell_type": "markdown",
   "metadata": {},
   "source": [
    "### Simultaneous Assignment"
   ]
  },
  {
   "cell_type": "code",
   "execution_count": null,
   "metadata": {
    "ExecuteTime": {
     "end_time": "2019-11-18T08:24:26.738394Z",
     "start_time": "2019-11-18T08:24:26.732383Z"
    }
   },
   "outputs": [],
   "source": [
    "x, y = 5, 2\n",
    "sum, diff = x+y, x-y\n",
    "print(sum, diff)\n",
    "\n",
    "print(x, y)\n",
    "x, y = y, x\n",
    "print(x, y)"
   ]
  },
  {
   "cell_type": "markdown",
   "metadata": {},
   "source": [
    "## Control Structures"
   ]
  },
  {
   "cell_type": "markdown",
   "metadata": {},
   "source": [
    "### IF Structure"
   ]
  },
  {
   "cell_type": "code",
   "execution_count": null,
   "metadata": {
    "ExecuteTime": {
     "end_time": "2019-11-19T01:27:10.696274Z",
     "start_time": "2019-11-19T01:27:10.690290Z"
    }
   },
   "outputs": [],
   "source": [
    "a, b, c = 1, 3, 5\n",
    "x = 4\n",
    "if x>c:\n",
    "    print(\"x > 5\")\n",
    "elif x>b:\n",
    "    print(\"x > 3\")\n",
    "else:\n",
    "    print(\"x < 3\")"
   ]
  },
  {
   "cell_type": "markdown",
   "metadata": {},
   "source": [
    "### For Loop"
   ]
  },
  {
   "cell_type": "code",
   "execution_count": null,
   "metadata": {
    "ExecuteTime": {
     "end_time": "2019-11-19T01:28:51.174802Z",
     "start_time": "2019-11-19T01:28:51.170809Z"
    }
   },
   "outputs": [],
   "source": [
    "x = [1,2,7]\n",
    "for i in x:\n",
    "    print(i)"
   ]
  },
  {
   "cell_type": "code",
   "execution_count": null,
   "metadata": {
    "ExecuteTime": {
     "end_time": "2019-11-19T01:29:22.063021Z",
     "start_time": "2019-11-19T01:29:22.058040Z"
    }
   },
   "outputs": [],
   "source": [
    "for i in range(5):\n",
    "    print(i)"
   ]
  },
  {
   "cell_type": "code",
   "execution_count": null,
   "metadata": {
    "ExecuteTime": {
     "end_time": "2019-11-19T01:29:51.952388Z",
     "start_time": "2019-11-19T01:29:51.946435Z"
    }
   },
   "outputs": [],
   "source": [
    "for i in range(10,30,2):\n",
    "    print(i)"
   ]
  },
  {
   "cell_type": "code",
   "execution_count": null,
   "metadata": {
    "ExecuteTime": {
     "end_time": "2019-11-19T01:30:48.507793Z",
     "start_time": "2019-11-19T01:30:48.501812Z"
    }
   },
   "outputs": [],
   "source": [
    "for i in range(10):\n",
    "    if not (i%3):\n",
    "        continue\n",
    "    print(i)"
   ]
  },
  {
   "cell_type": "markdown",
   "metadata": {},
   "source": [
    "### While Loop"
   ]
  },
  {
   "cell_type": "code",
   "execution_count": null,
   "metadata": {
    "ExecuteTime": {
     "end_time": "2019-11-19T01:34:51.912404Z",
     "start_time": "2019-11-19T01:34:51.909411Z"
    }
   },
   "outputs": [],
   "source": [
    "i = 0\n",
    "while i <= 10:\n",
    "    print(i)\n",
    "    i += 1"
   ]
  },
  {
   "cell_type": "code",
   "execution_count": null,
   "metadata": {
    "ExecuteTime": {
     "end_time": "2019-11-19T01:35:53.859132Z",
     "start_time": "2019-11-19T01:35:53.853113Z"
    }
   },
   "outputs": [],
   "source": [
    "x,y = 0,0\n",
    "while(True):\n",
    "    x += 1\n",
    "    y += 2\n",
    "    if(x+y>10):\n",
    "        print(x,y)\n",
    "        break"
   ]
  },
  {
   "cell_type": "markdown",
   "metadata": {},
   "source": [
    "## Using Libraries"
   ]
  },
  {
   "cell_type": "code",
   "execution_count": null,
   "metadata": {
    "ExecuteTime": {
     "end_time": "2019-11-19T02:02:50.463833Z",
     "start_time": "2019-11-19T02:02:50.456908Z"
    }
   },
   "outputs": [],
   "source": [
    "import math\n",
    "dir(math)\n",
    "help(math.cos)"
   ]
  },
  {
   "cell_type": "code",
   "execution_count": null,
   "metadata": {
    "ExecuteTime": {
     "end_time": "2019-11-19T02:19:54.223668Z",
     "start_time": "2019-11-19T02:19:54.216655Z"
    }
   },
   "outputs": [],
   "source": [
    "import math\n",
    "print(math.cos(0))\n",
    "\n",
    "from math import cos, pi\n",
    "print(cos(0), pi)\n",
    "\n",
    "from math import *\n",
    "pi"
   ]
  },
  {
   "cell_type": "markdown",
   "metadata": {},
   "source": [
    "# Python Functions"
   ]
  },
  {
   "cell_type": "markdown",
   "metadata": {},
   "source": [
    "* Python Built-in Functions : input(), print(), len(), abs()\n",
    "* User Defined Functions\n",
    "* Functions belonging to Python Built-In Data Types\n",
    "  list.append(), set.remove()\n",
    "* Functions from Other Modules\n",
    "* Functions from Python Standard Library"
   ]
  },
  {
   "cell_type": "markdown",
   "metadata": {},
   "source": [
    "## Basics of Python Functions"
   ]
  },
  {
   "cell_type": "markdown",
   "metadata": {},
   "source": [
    "### General"
   ]
  },
  {
   "cell_type": "code",
   "execution_count": null,
   "metadata": {
    "ExecuteTime": {
     "end_time": "2019-11-19T05:14:07.238462Z",
     "start_time": "2019-11-19T05:14:07.233503Z"
    }
   },
   "outputs": [],
   "source": [
    "def sum(a,b):\n",
    "    result = a + b\n",
    "    return result\n",
    "\n",
    "a = sum(10,20)\n",
    "print(a)"
   ]
  },
  {
   "cell_type": "markdown",
   "metadata": {},
   "source": [
    "### Setting Default Value"
   ]
  },
  {
   "cell_type": "code",
   "execution_count": null,
   "metadata": {
    "ExecuteTime": {
     "end_time": "2019-11-19T05:16:36.250615Z",
     "start_time": "2019-11-19T05:16:36.245602Z"
    }
   },
   "outputs": [],
   "source": [
    "# 입력에 default 값 설정\n",
    "def say_myself(name, old, man=True):\n",
    "    print(\"내 이름은 %s 입니다.\" % name)\n",
    "    print(\"나이는 %d살입니다.\" % old)\n",
    "    if man:\n",
    "        print(\"남자입니다.\")\n",
    "    else:\n",
    "        print(\"남자가 아닙니다.\")\n",
    "\n",
    "say_myself(\"Jack\",20,False)"
   ]
  },
  {
   "cell_type": "markdown",
   "metadata": {},
   "source": [
    "### 여러개의 optional parameter (*args)"
   ]
  },
  {
   "cell_type": "code",
   "execution_count": null,
   "metadata": {
    "ExecuteTime": {
     "end_time": "2019-11-19T05:21:42.459035Z",
     "start_time": "2019-11-19T05:21:42.453051Z"
    }
   },
   "outputs": [],
   "source": [
    "# 여러개의 입력값 *args\n",
    "def sum(*values, **options):\n",
    "    s = 0\n",
    "    for i in values:\n",
    "        s+=i\n",
    "    if \"neg\" in options:\n",
    "        if options[\"neg\"]:\n",
    "            s = -s\n",
    "    return s\n",
    "\n",
    "print(sum(1,2,3,4,5, neg=True))\n"
   ]
  },
  {
   "cell_type": "markdown",
   "metadata": {},
   "source": [
    "### 여러개의 값을 return"
   ]
  },
  {
   "cell_type": "code",
   "execution_count": null,
   "metadata": {
    "ExecuteTime": {
     "end_time": "2019-11-19T05:27:24.682988Z",
     "start_time": "2019-11-19T05:27:24.677973Z"
    }
   },
   "outputs": [],
   "source": [
    "def sum_and_mul(a,b):\n",
    "    return a+b, a*b\n",
    "\n",
    "print(sum_and_mul(3,4))\n",
    "\n",
    "a,b = sum_and_mul(5,6)\n",
    "print(a,b)"
   ]
  },
  {
   "cell_type": "markdown",
   "metadata": {},
   "source": [
    "### 함수 안에서 함수 밖의 변수를 변경하기"
   ]
  },
  {
   "cell_type": "code",
   "execution_count": null,
   "metadata": {
    "ExecuteTime": {
     "end_time": "2019-11-19T05:28:43.890691Z",
     "start_time": "2019-11-19T05:28:43.885677Z"
    }
   },
   "outputs": [],
   "source": [
    "a = 1\n",
    "\n",
    "def vartest():\n",
    "    global a\n",
    "    a = a+10\n",
    "\n",
    "print(a)\n",
    "vartest()\n",
    "print(a)"
   ]
  },
  {
   "cell_type": "markdown",
   "metadata": {},
   "source": [
    "### Special Variables"
   ]
  },
  {
   "cell_type": "code",
   "execution_count": null,
   "metadata": {
    "ExecuteTime": {
     "end_time": "2019-11-19T05:49:19.152701Z",
     "start_time": "2019-11-19T05:49:19.147741Z"
    }
   },
   "outputs": [],
   "source": [
    "def myfunc():\n",
    "    '''My description is more than one line\n",
    "    and helps other people understand this function'''\n",
    "\n",
    "\n",
    "print(myfunc.__name__)    \n",
    "print(myfunc.__doc__)\n",
    "\n",
    "print(__name__)"
   ]
  },
  {
   "cell_type": "markdown",
   "metadata": {},
   "source": [
    "### Functions in Math module"
   ]
  },
  {
   "cell_type": "code",
   "execution_count": null,
   "metadata": {
    "ExecuteTime": {
     "end_time": "2019-11-19T05:52:33.282697Z",
     "start_time": "2019-11-19T05:52:33.276715Z"
    }
   },
   "outputs": [],
   "source": [
    "import math\n",
    "print(math.pi)\n",
    "print(math.e)\n",
    "print(math.inf)\n",
    "print(math.nan)\n",
    "\n",
    "a = -3.123\n",
    "b = 8\n",
    "c = 3\n",
    "\n",
    "print(math.ceil(a))\n",
    "print(math.floor(a))\n",
    "print(math.fabs(a))\n",
    "print(math.factorial(b))\n",
    "print(math.fmod(b,c))\n"
   ]
  },
  {
   "cell_type": "markdown",
   "metadata": {},
   "source": [
    "# Recursion in Python"
   ]
  },
  {
   "cell_type": "markdown",
   "metadata": {},
   "source": [
    "## Concept of Recursion\n",
    "* Every recursive function definition includes two parts:\n",
    "- Base case(s) (non-recursive) : One or more simple cases that can be done right away\n",
    "- Recursive case(s) : One or more cases that require solving \"simpler\" version(s) of the original problem."
   ]
  },
  {
   "cell_type": "code",
   "execution_count": null,
   "metadata": {
    "ExecuteTime": {
     "end_time": "2019-11-19T05:59:27.556882Z",
     "start_time": "2019-11-19T05:59:27.551868Z"
    }
   },
   "outputs": [],
   "source": [
    "def factorial(n):\n",
    "    if n == 0: # base case\n",
    "        return 1\n",
    "    else:\n",
    "        return n* factorial(n-1)\n",
    "    \n",
    "print(factorial(3))"
   ]
  },
  {
   "cell_type": "code",
   "execution_count": null,
   "metadata": {
    "ExecuteTime": {
     "end_time": "2019-11-19T06:01:53.593061Z",
     "start_time": "2019-11-19T06:01:53.588075Z"
    }
   },
   "outputs": [],
   "source": [
    "def sumlist(lists):\n",
    "    if lists == []:\n",
    "        return 0\n",
    "    else:\n",
    "        return lists[0] + sumlist(lists[1:])\n",
    "\n",
    "print(sumlist([1,2,3,4,5]))"
   ]
  },
  {
   "cell_type": "code",
   "execution_count": null,
   "metadata": {
    "ExecuteTime": {
     "end_time": "2019-11-19T06:03:35.288372Z",
     "start_time": "2019-11-19T06:03:35.282418Z"
    }
   },
   "outputs": [],
   "source": [
    "def reverse(s):\n",
    "    if s == \"\":\n",
    "        return s\n",
    "    else:\n",
    "        return reverse(s[1:])+s[0]\n",
    "\n",
    "print(reverse(\"abcde\"))"
   ]
  },
  {
   "cell_type": "markdown",
   "metadata": {},
   "source": [
    "# Python Built-In Functions"
   ]
  },
  {
   "cell_type": "markdown",
   "metadata": {},
   "source": [
    "## Basics"
   ]
  },
  {
   "cell_type": "code",
   "execution_count": null,
   "metadata": {
    "ExecuteTime": {
     "end_time": "2019-11-19T08:00:07.983286Z",
     "start_time": "2019-11-19T08:00:07.973351Z"
    }
   },
   "outputs": [],
   "source": [
    "a = abs(3)\n",
    "b = abs(-3)\n",
    "\n",
    "print(all([1,2,3]))\n",
    "print(all([1,2,3,0])) #하나라도 False면 False\n",
    "\n",
    "print(any([1,2,3]))\n",
    "print(any([1,2,3,0])) #하나라도 True면 True\n",
    "print(any([0,\"\"]))\n"
   ]
  },
  {
   "cell_type": "code",
   "execution_count": null,
   "metadata": {
    "ExecuteTime": {
     "end_time": "2019-11-19T08:01:32.264572Z",
     "start_time": "2019-11-19T08:01:32.258588Z"
    }
   },
   "outputs": [],
   "source": [
    "print(dir([1,2,3]))\n",
    "print(dir({'1':'a'}))"
   ]
  },
  {
   "cell_type": "code",
   "execution_count": null,
   "metadata": {
    "ExecuteTime": {
     "end_time": "2019-11-19T08:02:38.073855Z",
     "start_time": "2019-11-19T08:02:38.068896Z"
    }
   },
   "outputs": [],
   "source": [
    "for i, name in enumerate(['body', 'foo', 'bar']):\n",
    "    print(i,name)"
   ]
  },
  {
   "cell_type": "code",
   "execution_count": null,
   "metadata": {
    "ExecuteTime": {
     "end_time": "2019-11-19T08:03:52.131191Z",
     "start_time": "2019-11-19T08:03:52.125197Z"
    }
   },
   "outputs": [],
   "source": [
    "eval('divmod(4,3)')"
   ]
  },
  {
   "cell_type": "code",
   "execution_count": null,
   "metadata": {
    "ExecuteTime": {
     "end_time": "2019-11-19T08:04:46.170720Z",
     "start_time": "2019-11-19T08:04:46.167713Z"
    }
   },
   "outputs": [],
   "source": [
    "print(max([1,2,3,4]))\n",
    "print(min([1,2,3,4]))"
   ]
  },
  {
   "cell_type": "code",
   "execution_count": null,
   "metadata": {
    "ExecuteTime": {
     "end_time": "2019-11-19T08:05:07.407326Z",
     "start_time": "2019-11-19T08:05:07.403334Z"
    }
   },
   "outputs": [],
   "source": [
    "print(oct(34))\n",
    "print(hex(234))"
   ]
  },
  {
   "cell_type": "code",
   "execution_count": null,
   "metadata": {
    "ExecuteTime": {
     "end_time": "2019-11-19T08:07:28.032609Z",
     "start_time": "2019-11-19T08:07:28.028624Z"
    }
   },
   "outputs": [],
   "source": [
    "l1 = [3,1,2]\n",
    "l2 = sorted(l1)\n",
    "print(l1,l2)\n",
    "\n",
    "result = l1.sort()\n",
    "print(result)\n",
    "print(l1)"
   ]
  },
  {
   "cell_type": "code",
   "execution_count": null,
   "metadata": {
    "ExecuteTime": {
     "end_time": "2019-11-19T08:08:34.098323Z",
     "start_time": "2019-11-19T08:08:34.093335Z"
    }
   },
   "outputs": [],
   "source": [
    "ListB = [24, 13, -15, -36, 8, 22]\n",
    "print(sorted(ListB, key=int, reverse=True))\n",
    "print(ListB)"
   ]
  },
  {
   "cell_type": "code",
   "execution_count": null,
   "metadata": {
    "ExecuteTime": {
     "end_time": "2019-11-19T08:10:15.599700Z",
     "start_time": "2019-11-19T08:10:15.595712Z"
    }
   },
   "outputs": [],
   "source": [
    "seqString = 'Python'\n",
    "print(list(reversed(seqString)))"
   ]
  },
  {
   "cell_type": "markdown",
   "metadata": {},
   "source": [
    "## lambda function"
   ]
  },
  {
   "cell_type": "markdown",
   "metadata": {},
   "source": [
    "### lambda"
   ]
  },
  {
   "cell_type": "code",
   "execution_count": null,
   "metadata": {
    "ExecuteTime": {
     "end_time": "2019-11-19T08:13:45.706099Z",
     "start_time": "2019-11-19T08:13:45.702108Z"
    }
   },
   "outputs": [],
   "source": [
    "# 기초 형태\n",
    "a = lambda x, y : x*y\n",
    "print(a(3,4))"
   ]
  },
  {
   "cell_type": "code",
   "execution_count": null,
   "metadata": {
    "ExecuteTime": {
     "end_time": "2019-11-19T08:15:16.004176Z",
     "start_time": "2019-11-19T08:15:15.999206Z"
    }
   },
   "outputs": [],
   "source": [
    "# 신기한 형태\n",
    "myList = [lambda a,b:a+b, lambda a,b:a*b]\n",
    "print(myList[0](3,4))\n",
    "print(myList[1](3,4))"
   ]
  },
  {
   "cell_type": "markdown",
   "metadata": {},
   "source": [
    "### map()"
   ]
  },
  {
   "cell_type": "code",
   "execution_count": null,
   "metadata": {
    "ExecuteTime": {
     "end_time": "2019-11-19T08:19:47.458548Z",
     "start_time": "2019-11-19T08:19:47.452588Z"
    }
   },
   "outputs": [],
   "source": [
    "items = [1,2,3,4,5]\n",
    "squared = list(map(lambda x: x**2, items))\n",
    "print(squared)\n",
    "\n"
   ]
  },
  {
   "cell_type": "code",
   "execution_count": null,
   "metadata": {
    "ExecuteTime": {
     "end_time": "2019-11-19T08:20:33.086807Z",
     "start_time": "2019-11-19T08:20:33.079845Z"
    }
   },
   "outputs": [],
   "source": [
    "a = [1,2,3,4]\n",
    "b = [17,12,11,10]\n",
    "c = [-1,-4,5,9]\n",
    "\n",
    "print(list(map(lambda x,y:x+y, a, b)))\n",
    "print(list(map(lambda x,y,z : x+y+z, a,b,c)))"
   ]
  },
  {
   "cell_type": "code",
   "execution_count": null,
   "metadata": {
    "ExecuteTime": {
     "end_time": "2019-11-19T08:22:49.156675Z",
     "start_time": "2019-11-19T08:22:49.149692Z"
    }
   },
   "outputs": [],
   "source": [
    "def square(x):\n",
    "    return (x*x)\n",
    "def double(x):\n",
    "    return (x+x)\n",
    "\n",
    "funcs = [square, double]\n",
    "for i in range(5):\n",
    "    value = list(map(lambda x:x(i), funcs))\n",
    "    print(value)"
   ]
  },
  {
   "cell_type": "markdown",
   "metadata": {},
   "source": [
    "### filter()"
   ]
  },
  {
   "cell_type": "code",
   "execution_count": null,
   "metadata": {
    "ExecuteTime": {
     "end_time": "2019-11-19T08:25:48.440559Z",
     "start_time": "2019-11-19T08:25:48.435572Z"
    }
   },
   "outputs": [],
   "source": [
    "number_list = range(-5,5)\n",
    "less_than_zero = list(filter(lambda x:x<0, number_list))\n",
    "print(less_than_zero)"
   ]
  },
  {
   "cell_type": "markdown",
   "metadata": {},
   "source": [
    "### reduce()"
   ]
  },
  {
   "cell_type": "code",
   "execution_count": null,
   "metadata": {
    "ExecuteTime": {
     "end_time": "2019-11-19T08:31:32.241232Z",
     "start_time": "2019-11-19T08:31:32.236273Z"
    }
   },
   "outputs": [],
   "source": [
    "from functools import reduce\n",
    "product = reduce(lambda x,y:x*y,[1,2,3,4])\n",
    "print(product)\n",
    "\n",
    "max_num = reduce(lambda x,y:x if x>y else y, [10,100,20,300,50,-1])\n",
    "print(max_num)"
   ]
  },
  {
   "cell_type": "markdown",
   "metadata": {},
   "source": [
    "### zip()"
   ]
  },
  {
   "cell_type": "code",
   "execution_count": null,
   "metadata": {
    "ExecuteTime": {
     "end_time": "2019-11-19T08:33:02.688074Z",
     "start_time": "2019-11-19T08:33:02.684084Z"
    }
   },
   "outputs": [],
   "source": [
    "print(list(zip([1,2,3],[4,5,6])))\n",
    "print(list(zip(\"abc\",\"def\")))"
   ]
  },
  {
   "cell_type": "markdown",
   "metadata": {},
   "source": [
    "# Other Modules"
   ]
  },
  {
   "cell_type": "markdown",
   "metadata": {},
   "source": [
    "## math module"
   ]
  },
  {
   "cell_type": "markdown",
   "metadata": {},
   "source": [
    "### Constants\n",
    "- math.pi\n",
    "- math.e\n",
    "- math.tau\n",
    "- math.inf\n",
    "- math.nan"
   ]
  },
  {
   "cell_type": "markdown",
   "metadata": {},
   "source": [
    "### Number Theoretic Functions\n",
    "- math.ceil(x)\n",
    "- math.floor(x)\n",
    "- math.fabs(x)\n",
    "- math.factorial(x)\n",
    "- math.fomd(x,y)\n",
    "- math.gcd(x,y)"
   ]
  },
  {
   "cell_type": "markdown",
   "metadata": {},
   "source": [
    "### Power & Log Functions\n",
    "- math.log(a,b)\n",
    "- math.pow(a,b)\n",
    "- math.sqrt(a)\n",
    "- math.log2(x)\n",
    "- math.log10(x)"
   ]
  },
  {
   "cell_type": "markdown",
   "metadata": {},
   "source": [
    "### Angular Conversion\n",
    "- math.degrees(x)\n",
    "- math.radians(x)"
   ]
  },
  {
   "cell_type": "markdown",
   "metadata": {},
   "source": [
    "### Trigonometric Functions\n",
    "- math.six(x)\n",
    "- math.cos(x)\n",
    "- math.tan(x)\n",
    "- secant(x)\n",
    "- cotnagent(x)\n",
    "- cosecant(x)\n",
    "- math.asin(x) #inverse of sin(x)\n",
    "- math.acos(x)\n",
    "- math.atan(x)"
   ]
  },
  {
   "cell_type": "markdown",
   "metadata": {},
   "source": [
    "### Hyperbolic Functions\n",
    "- math.cosh(x)\n",
    "- math.sinh(x)\n",
    "- math.tanh(x)"
   ]
  },
  {
   "cell_type": "markdown",
   "metadata": {},
   "source": [
    "## statistics module"
   ]
  },
  {
   "cell_type": "markdown",
   "metadata": {},
   "source": [
    "### Functions\n",
    "- statistics.mean()\n",
    "- statistics.median()\n",
    "- statistics.mode()\n",
    "- statistics.pstdev() : population stdev\n",
    "- statistics.pvariance()\n",
    "- statistics.stdev() : sample\n",
    "- statistics.variance()"
   ]
  },
  {
   "cell_type": "markdown",
   "metadata": {},
   "source": [
    "### Standard Library : Statistics\n",
    "- mean()\n",
    "- harmonic_mean()\n",
    "- median()\n",
    "- median_low,high()\n",
    "- median_grouped\n",
    "- mode()\n",
    "- pstdev()\n",
    "- pvariance()\n",
    "- stdev()\n",
    "- variance()\n",
    "\n",
    "numpy, scipy, pandas..."
   ]
  },
  {
   "cell_type": "markdown",
   "metadata": {},
   "source": [
    "## random module"
   ]
  },
  {
   "cell_type": "markdown",
   "metadata": {},
   "source": [
    "### Functions\n",
    "- random.random()\n",
    "- random.seed(a)\n",
    "- random.seed() : with current system time\n",
    "- random.uniform(a,b)\n",
    "- random.randint(a,b) : a,b사이의 random integer\n",
    "- random.randrange(a,b) : \\[a,b)사이의 random integer\n",
    "- random.randrange(a,b,c)\n",
    "- random.choice(temp)\n",
    "- random.shuffle(a)\n",
    "- random.sample(a,b)"
   ]
  },
  {
   "cell_type": "markdown",
   "metadata": {},
   "source": [
    "# Object-Oriented Paradigm"
   ]
  },
  {
   "cell_type": "markdown",
   "metadata": {},
   "source": [
    "## Basic Concept"
   ]
  },
  {
   "cell_type": "markdown",
   "metadata": {},
   "source": [
    "### Very Simple Class"
   ]
  },
  {
   "cell_type": "code",
   "execution_count": null,
   "metadata": {
    "ExecuteTime": {
     "end_time": "2019-11-19T22:59:46.974238Z",
     "start_time": "2019-11-19T22:59:46.969273Z"
    }
   },
   "outputs": [],
   "source": [
    "class Programmer:\n",
    "    pass\n",
    "\n",
    "kim = Programmer()\n",
    "park = Programmer()"
   ]
  },
  {
   "cell_type": "code",
   "execution_count": null,
   "metadata": {
    "ExecuteTime": {
     "end_time": "2019-11-19T23:03:26.261417Z",
     "start_time": "2019-11-19T23:03:26.255433Z"
    }
   },
   "outputs": [],
   "source": [
    "class Ph():\n",
    "    def printHam(self): # class function 선언시 self 가 첫째 파라미터여야 함.\n",
    "        print(\"ham\")\n",
    "x = Ph()\n",
    "x.printHam()"
   ]
  },
  {
   "cell_type": "code",
   "execution_count": null,
   "metadata": {
    "ExecuteTime": {
     "end_time": "2019-11-19T23:09:12.049450Z",
     "start_time": "2019-11-19T23:09:12.043466Z"
    }
   },
   "outputs": [],
   "source": [
    "class Hero:\n",
    "    def __init__(self,name):\n",
    "        self.name = name\n",
    "        self.health = 100\n",
    "    def eat(self, food):\n",
    "        if (food==\"apple\"):\n",
    "            self.health -= 100\n",
    "        elif (food=='ham'):\n",
    "            self.health += 20\n",
    "            \n",
    "bob = Hero(\"Bob\")\n",
    "print(bob.name)\n",
    "print(bob.health)\n",
    "bob.eat('ham')\n",
    "print(bob.health)"
   ]
  },
  {
   "cell_type": "markdown",
   "metadata": {},
   "source": [
    "### Python Class Syntax\n",
    "\n",
    "**Class Declaration**\n",
    "\n",
    "class class_name(superclasses):\n",
    "\n",
    "    class_var1 # 클래스변수\n",
    "    class_var2\n",
    "    \n",
    "    def __init__(self, para1, para2):\n",
    "        self.ins_var1 = para1\n",
    "        self.ins_var2 = para2  # 인스턴스변수\n",
    "        \n",
    "    def ins_functions(self, para1, para2): # 인스턴스함수\n",
    "        <statement1>\n",
    "        <statement2>\n",
    "        \n",
    "    @classmethod # 클래스함수\n",
    "    def class_function(cls):\n",
    "        <statement1>\n",
    "        <statement2>\n",
    "        "
   ]
  },
  {
   "cell_type": "code",
   "execution_count": null,
   "metadata": {
    "ExecuteTime": {
     "end_time": "2019-11-19T23:34:16.744742Z",
     "start_time": "2019-11-19T23:34:16.736754Z"
    }
   },
   "outputs": [],
   "source": [
    "class A:\n",
    "    def f(self):\n",
    "        return self.g()\n",
    "    def g(self):\n",
    "        return 'A'\n",
    "    \n",
    "class B(A):\n",
    "    def g(self):\n",
    "        return 'B'\n",
    "    \n",
    "a = A()\n",
    "b = B()\n",
    "print(a.f(), b.f()) #뭐가 출력될까? B의 g()가 호출됨\n",
    "print(a.g(), b.g())"
   ]
  },
  {
   "cell_type": "markdown",
   "metadata": {},
   "source": [
    "### Class Inheritance"
   ]
  },
  {
   "cell_type": "code",
   "execution_count": null,
   "metadata": {
    "ExecuteTime": {
     "end_time": "2019-11-20T00:14:26.241606Z",
     "start_time": "2019-11-20T00:14:26.232632Z"
    }
   },
   "outputs": [],
   "source": [
    "class HousePark:\n",
    "    lastname = \"박\"\n",
    "    def __init__(self, name):\n",
    "        self.fullname = self.lastname + name\n",
    "    def travel(self, where):\n",
    "        print(\"%s, %s여행을 가다.\" % (self.fullname, where))\n",
    "    def love(self, other):\n",
    "        print(\"%s, %s 사랑에 빠졌네\" % (self.fullname, other.fullname))\n",
    "    def fight(self, other):\n",
    "        print(\"%s, %s 싸우네\" % (self.fullname, other.fullname))\n",
    "    def __add__(self, other): #instance간에 + 연산자를 사용하려면 '__add__'가 define되어야.\n",
    "        print(\"%s, %s 결혼했네\" % (self.fullname, other.fullname))\n",
    "    def __sub__(self, other):\n",
    "        print(\"%s, %s 이혼했네\" % (self.fullname, other.fullname))\n",
    "        \n",
    "class HouseKim(HousePark):\n",
    "    lastname = \"김\"\n",
    "    def travel(self, where, day):\n",
    "        print(\"%s, %s여행 %d일 가네.\" % (self.fullname, where, day))\n",
    "\n",
    "pey = HousePark(\"응용\")\n",
    "juliet = HouseKim(\"줄리엣\")\n",
    "pey.travel(\"부산\")\n",
    "juliet.travel(\"부산\",5)\n",
    "pey.love(juliet)\n",
    "pey + juliet\n",
    "pey.fight(juliet)\n",
    "pey - juliet"
   ]
  },
  {
   "cell_type": "markdown",
   "metadata": {},
   "source": [
    "## Constructor vs Destructor"
   ]
  },
  {
   "cell_type": "code",
   "execution_count": null,
   "metadata": {
    "ExecuteTime": {
     "end_time": "2019-11-20T00:21:00.855535Z",
     "start_time": "2019-11-20T00:21:00.847600Z"
    }
   },
   "outputs": [],
   "source": [
    "class Person:\n",
    "    \n",
    "    def __init__(self, name):\n",
    "        self.name = name\n",
    "        print(self.name)\n",
    "        \n",
    "    def sayhello(self):\n",
    "        print('Hello, my name is', self.name)\n",
    "    \n",
    "    def __del__(self):\n",
    "        print(\"%s says bye.\" % self.name)\n",
    "\n",
    "A = Person(\"sh\")\n",
    "A.sayhello()\n",
    "del A"
   ]
  },
  {
   "cell_type": "markdown",
   "metadata": {},
   "source": [
    "## Class Inheritance"
   ]
  },
  {
   "cell_type": "markdown",
   "metadata": {},
   "source": [
    "### Class Definition"
   ]
  },
  {
   "cell_type": "code",
   "execution_count": null,
   "metadata": {
    "ExecuteTime": {
     "end_time": "2019-11-20T00:54:02.447912Z",
     "start_time": "2019-11-20T00:54:02.439921Z"
    }
   },
   "outputs": [],
   "source": [
    "class A(object):\n",
    "    def __init__(self, x):\n",
    "        self.x = x\n",
    "    def f(self):\n",
    "        return 10*self.x\n",
    "    def g(self):\n",
    "        return 100*self.x\n",
    "    \n",
    "class B(A):\n",
    "    def __init__(self, x=42, y=99):\n",
    "        super().__init__(x)\n",
    "        self.y = y\n",
    "    def f(self):\n",
    "        return 1000*self.x\n",
    "    def g(self):\n",
    "        return (super().g(), self.y)\n",
    "    \n",
    "a = A(5)\n",
    "b = B(7)\n",
    "print(a.f())\n",
    "print(a.g())\n",
    "print(b.f())\n",
    "print(b.g())"
   ]
  },
  {
   "cell_type": "code",
   "execution_count": null,
   "metadata": {
    "ExecuteTime": {
     "end_time": "2019-11-20T00:55:47.827498Z",
     "start_time": "2019-11-20T00:55:47.819511Z"
    }
   },
   "outputs": [],
   "source": [
    "class A(object): pass\n",
    "class B(A): pass\n",
    "\n",
    "a = A()\n",
    "b = B()\n",
    "print(type(a) == A)\n",
    "print(type(b) == A)\n",
    "print(type(a) == B)\n",
    "print(type(b) == B)\n",
    "print()\n",
    "print(isinstance(a,A))\n",
    "print(isinstance(a,B))\n",
    "print(isinstance(b,A)) #superclass의 instance이기도 함\n",
    "print(isinstance(b,B))"
   ]
  },
  {
   "cell_type": "markdown",
   "metadata": {},
   "source": [
    "### Multiple Inheritance"
   ]
  },
  {
   "cell_type": "code",
   "execution_count": null,
   "metadata": {
    "ExecuteTime": {
     "end_time": "2019-11-20T01:02:14.953437Z",
     "start_time": "2019-11-20T01:02:14.947451Z"
    }
   },
   "outputs": [],
   "source": [
    "# Multiple Inheritance\n",
    "class A:\n",
    "    def a(self):\n",
    "        print('I am A')\n",
    "\n",
    "class B:\n",
    "    def a(self):\n",
    "        print('I am small A')\n",
    "    def b(self):\n",
    "        print('I am B')\n",
    "\n",
    "class C(A,B):\n",
    "    def c(self):\n",
    "        print('I am C')\n",
    "        \n",
    "C = C()\n",
    "C.a()\n",
    "C.b()\n",
    "C.c()"
   ]
  },
  {
   "cell_type": "markdown",
   "metadata": {},
   "source": [
    "## Accessing the Inside of the Class"
   ]
  },
  {
   "cell_type": "code",
   "execution_count": null,
   "metadata": {
    "ExecuteTime": {
     "end_time": "2019-11-20T01:37:51.178010Z",
     "start_time": "2019-11-20T01:37:51.173053Z"
    }
   },
   "outputs": [],
   "source": [
    "class JustCounter:\n",
    "    __secretCount = 0\n",
    "    \n",
    "    def count(self):\n",
    "        self.__secretCount += 1\n",
    "        print(self.__secretCount)\n",
    "        \n",
    "counter = JustCounter()\n",
    "counter.count()\n",
    "counter.count()\n",
    "\n",
    "#print(counter.__secretCount)\n",
    "\n",
    "print(counter._JustCounter__secretCount) # 이게 되면 멍미..."
   ]
  },
  {
   "cell_type": "code",
   "execution_count": null,
   "metadata": {
    "ExecuteTime": {
     "end_time": "2019-11-20T01:48:41.226191Z",
     "start_time": "2019-11-20T01:48:41.221205Z"
    }
   },
   "outputs": [],
   "source": [
    "class Person:\n",
    "    def __init__(self):\n",
    "        self.A = \"Yubi\"\n",
    "        self.__B = 'Gwanoo'\n",
    "        \n",
    "    def PrintName(self):\n",
    "        print(self.A)\n",
    "        print(self.__B)\n",
    "        \n",
    "P = Person()\n",
    "print(P.A)\n",
    "# print(P.__B) # error\n",
    "P.PrintName()\n",
    "print(P._Person__B) # 아 뭐야.."
   ]
  },
  {
   "cell_type": "markdown",
   "metadata": {},
   "source": [
    "### Class Method, Class Variable, Special Class Variables"
   ]
  },
  {
   "cell_type": "code",
   "execution_count": null,
   "metadata": {
    "ExecuteTime": {
     "end_time": "2019-11-20T02:04:56.149251Z",
     "start_time": "2019-11-20T02:04:56.140269Z"
    }
   },
   "outputs": [],
   "source": [
    "class Employee:\n",
    "    'common base class for all employee'\n",
    "    empCount = 0 # class variable\n",
    "    \n",
    "    def __init__(self, name, salary):\n",
    "        self.name = name\n",
    "        self.salary = salary\n",
    "        Employee.empCount += 1\n",
    "        \n",
    "    def displayCount(self):\n",
    "        print(\"Total Employee %d\" % Employee.empCount)\n",
    "        \n",
    "    def displayEmployee(self):\n",
    "        print(\"Name : %s, Salary: %s\" % (self.name, self.salary))\n",
    "        \n",
    "\"This would create first object of Employee class\"\n",
    "emp1 = Employee(\"Zara\", 2000)\n",
    "\"This would create second object of Employee class\"\n",
    "emp2 = Employee(\"Manni\", 5000)\n",
    "emp1.displayEmployee()\n",
    "emp2.displayEmployee()\n",
    "print(\"Total Employee %d\" % Employee.empCount)\n",
    "emp1.displayCount()\n",
    "emp2.displayCount()\n",
    "\n",
    "print(Employee.__doc__)\n",
    "print(Employee.__name__)\n",
    "print(Employee.__module__)\n",
    "print(Employee.__bases__)\n",
    "print(Employee.__dict__)"
   ]
  },
  {
   "cell_type": "code",
   "execution_count": null,
   "metadata": {
    "ExecuteTime": {
     "end_time": "2019-11-20T02:10:49.965563Z",
     "start_time": "2019-11-20T02:10:49.952614Z"
    }
   },
   "outputs": [],
   "source": [
    "class A(object):\n",
    "    x = 42\n",
    "    def __init__(self,y):\n",
    "        self.y = y\n",
    "        \n",
    "a = A(99)\n",
    "print(a.__dict__)\n",
    "print(A.__dict__)\n",
    "\n",
    "a.__dict__['y'] = 100 # 이렇게 접근해서 변경도 가능\n",
    "print(a.y)\n",
    "print(a.__name__)"
   ]
  },
  {
   "cell_type": "markdown",
   "metadata": {},
   "source": [
    "### Built-In Functions : getattr(), hasattr(), setattr(), delattr()"
   ]
  },
  {
   "cell_type": "code",
   "execution_count": null,
   "metadata": {
    "ExecuteTime": {
     "end_time": "2019-11-20T02:30:25.695372Z",
     "start_time": "2019-11-20T02:30:25.690385Z"
    }
   },
   "outputs": [],
   "source": [
    "emp1.age = 7 # 없던 attribute를 추가하는게 가능...\n",
    "\n",
    "hasattr(emp1, 'age')\n",
    "getattr(emp1, 'age')\n",
    "setattr(emp1, 'age', 8)\n",
    "delattr(emp1, 'age')"
   ]
  },
  {
   "cell_type": "markdown",
   "metadata": {},
   "source": [
    "### Special Class Methods (__foo__())\n",
    "- __init__()\n",
    "- __del__()\n",
    "\n",
    "- __add__()\n",
    "- __sub__()\n",
    "- __mult__()\n",
    "- __div__()\n",
    "- __float__()\n",
    "\n",
    "- __str__()\n",
    "- __repr__()\n",
    "- __hash__()\n",
    "- __lt__()\n",
    "- __le__()\n",
    "- __gt__()\n",
    "- __ge__()\n",
    "- __eq__()\n",
    "- __iter__(), __next__()"
   ]
  },
  {
   "cell_type": "code",
   "execution_count": null,
   "metadata": {
    "ExecuteTime": {
     "end_time": "2019-11-20T04:49:30.511405Z",
     "start_time": "2019-11-20T04:49:30.505392Z"
    }
   },
   "outputs": [],
   "source": [
    "# Vector Class\n",
    "class Vector:\n",
    "    def __init__(self, a, b):\n",
    "        self.a = a\n",
    "        self.b = b\n",
    "    \n",
    "    def __str__(self):\n",
    "        return 'Vector (%d, %d)' % (self.a, self.b)\n",
    "    \n",
    "    def __add__(self,other):\n",
    "        return Vector(self.a + other.a, self.b + other.b)\n",
    "    \n",
    "v1 = Vector(2,10)\n",
    "v2 = Vector(5,-2)\n",
    "print(v1)\n",
    "print(v1+v2)"
   ]
  },
  {
   "cell_type": "code",
   "execution_count": null,
   "metadata": {
    "ExecuteTime": {
     "end_time": "2019-11-20T05:20:06.735831Z",
     "start_time": "2019-11-20T05:20:06.722865Z"
    }
   },
   "outputs": [],
   "source": [
    "# Fraction Class\n",
    "import math\n",
    "\n",
    "class Fraction(object):\n",
    "    def __init__(self, num, den):\n",
    "        self.num = num\n",
    "        self.den = den\n",
    "        self.simplify()\n",
    "        \n",
    "    def __str__(self):\n",
    "        return str(self.num) + \"/\" + str(self.den)\n",
    "        \n",
    "    def toString(self):\n",
    "        return str(self.num) + \"/\" + str(self.den)\n",
    "    \n",
    "    def add(self,other):\n",
    "        self.num1 = self.num * other.den\n",
    "        other.num1 = other.num * self.den\n",
    "        return Fraction(self.num1 + other.num1, self.den * other.den)\n",
    "    \n",
    "    def mul(self, other):\n",
    "        return\n",
    "    \n",
    "    def simplify(self):\n",
    "        gcd = math.gcd(self.num, self.den)\n",
    "        self.num = int(self.num / gcd)\n",
    "        self.den = int(self.den / gcd)\n",
    "        return\n",
    "    \n",
    "    def __add__(self, other):\n",
    "        self.num1 = self.num * other.den\n",
    "        other.num1 = other.num * self.den\n",
    "        return Fraction(self.num1 + other.num1, self.den * other.den)\n",
    "    \n",
    "    def __eq__(self, other):\n",
    "        return (isinstance(other, Fraction) and (self.num == other.num) and (self.den == other.den))\n",
    "    \n",
    "f1 = Fraction(4,6)\n",
    "f2 = Fraction(5,9)\n",
    "print(f1)\n",
    "print(f1.toString())\n",
    "print(f1.add(f2).toString())\n",
    "print(f1+f2)\n",
    "print(Fraction(2,3)==Fraction(4,6))"
   ]
  },
  {
   "cell_type": "code",
   "execution_count": null,
   "metadata": {
    "ExecuteTime": {
     "end_time": "2019-11-20T05:13:10.112505Z",
     "start_time": "2019-11-20T05:13:10.105554Z"
    }
   },
   "outputs": [],
   "source": [
    "# __repr__() vs __str__()\n",
    "class TClass:\n",
    "    def __init__(self, x, y):\n",
    "        self.x = x\n",
    "        self.y = y\n",
    "        \n",
    "    def foo(self):\n",
    "        return self.x + self.y\n",
    "    \n",
    "    def __str__(self):\n",
    "        return(\"Printing the testobject: \\n      Object with \"\n",
    "              \"(x: \" + str(self.x) + \" , \" + \"y: \" + str(self.y) + \")\")\n",
    "    \n",
    "    def __repr__(self):\n",
    "        return \"TClass( x = %s, y = %s)\" % (self.x, self.y)\n",
    "\n",
    "testobject = TClass(10,20)\n",
    "testobject\n",
    "print(testobject)"
   ]
  },
  {
   "cell_type": "markdown",
   "metadata": {},
   "source": [
    "## Static Method"
   ]
  },
  {
   "cell_type": "code",
   "execution_count": null,
   "metadata": {
    "ExecuteTime": {
     "end_time": "2019-11-20T05:52:34.819840Z",
     "start_time": "2019-11-20T05:52:34.813854Z"
    }
   },
   "outputs": [],
   "source": [
    "class Person(object):\n",
    "    def __init__(self, name, age, gender):\n",
    "        self.name = name\n",
    "        self.age = age\n",
    "        self.gender = gender\n",
    "        \n",
    "    def changeName(self, newName):\n",
    "        if(Person.isValidName(newName)): # static method의 사용법\n",
    "            self.name = newName\n",
    "            \n",
    "    @staticmethod\n",
    "    def isValidName(name): # 첫번째 인자로 self가 필요없다!\n",
    "        return\n",
    "    "
   ]
  },
  {
   "cell_type": "markdown",
   "metadata": {},
   "source": [
    "## Abstract Class\n",
    "```\n",
    "superclass는 두고 function은 선언만 하고 자체적으로 구현하고 싶은 경우\n",
    "superclass 자체에서 instance가 생성되는 것을 원하지 않는 경우\n",
    "```\n",
    "ABC(Abstract Base Class) using abc module"
   ]
  },
  {
   "cell_type": "code",
   "execution_count": null,
   "metadata": {
    "ExecuteTime": {
     "end_time": "2019-11-20T06:13:12.767345Z",
     "start_time": "2019-11-20T06:13:12.756348Z"
    }
   },
   "outputs": [],
   "source": [
    "from abc import ABC, abstractmethod\n",
    "class Pizza(ABC):\n",
    "    @abstractmethod\n",
    "    def get_radius(self):\n",
    "        pass\n",
    "    \n",
    "pizza = Pizza() # error"
   ]
  },
  {
   "cell_type": "code",
   "execution_count": null,
   "metadata": {
    "ExecuteTime": {
     "end_time": "2019-11-20T06:20:43.587226Z",
     "start_time": "2019-11-20T06:20:43.580245Z"
    }
   },
   "outputs": [],
   "source": [
    "from abc import ABC, abstractmethod\n",
    "\n",
    "class abClassSample(ABC):\n",
    "    def __init__(self, value):\n",
    "        self.value = value\n",
    "        super().__init__()\n",
    "        \n",
    "    @abstractmethod\n",
    "    def do_something(self):\n",
    "        pass\n",
    "    \n",
    "class DoAdd42(abClassSample):\n",
    "    pass\n",
    "\n",
    "# x = DoAdd42(4) # fuction을 자체 구현해줘야 class instantiation이 가능\n",
    "\n",
    "class DoMul42(abClassSample):\n",
    "    def do_something(self):\n",
    "        return self.value * 42\n",
    "    \n",
    "x = DoMul42(10)\n",
    "print(x.do_something())"
   ]
  },
  {
   "cell_type": "markdown",
   "metadata": {},
   "source": [
    "## Iterator Object"
   ]
  },
  {
   "cell_type": "code",
   "execution_count": null,
   "metadata": {
    "ExecuteTime": {
     "end_time": "2019-11-20T06:54:57.016475Z",
     "start_time": "2019-11-20T06:54:57.003538Z"
    }
   },
   "outputs": [],
   "source": [
    "my_list = [4,7,0,3]\n",
    "my_iter = iter(my_list)\n",
    "\n",
    "print(next(my_iter))\n",
    "print(next(my_iter))\n",
    "\n",
    "print(my_iter.__next__())\n",
    "print(my_iter.__next__())\n",
    "\n",
    "next(my_iter)"
   ]
  },
  {
   "cell_type": "code",
   "execution_count": null,
   "metadata": {
    "ExecuteTime": {
     "end_time": "2019-11-20T06:58:26.437967Z",
     "start_time": "2019-11-20T06:58:26.426991Z"
    }
   },
   "outputs": [],
   "source": [
    "# Iterator Object로 만들기\n",
    "class MyCollection:\n",
    "    def __init__(self):\n",
    "        self.size = 10\n",
    "        self.data = list(range(self.size))\n",
    "        \n",
    "coll = MyCollection()\n",
    "for x in coll: # error\n",
    "    print(x)"
   ]
  },
  {
   "cell_type": "code",
   "execution_count": null,
   "metadata": {
    "ExecuteTime": {
     "end_time": "2019-11-20T06:59:57.349122Z",
     "start_time": "2019-11-20T06:59:57.342142Z"
    }
   },
   "outputs": [],
   "source": [
    "# Iterator Object로 만들기\n",
    "class MyCollection:\n",
    "    def __init__(self):\n",
    "        self.size = 10\n",
    "        self.data = list(range(self.size))\n",
    "        \n",
    "    def __iter__(self):\n",
    "        self.index = 0\n",
    "        return self\n",
    "    \n",
    "    def __next__(self):\n",
    "        if self.index >= self.size:\n",
    "            raise StopIteration\n",
    "            \n",
    "        n = self.data[self.index]\n",
    "        self.index += 1\n",
    "        return n\n",
    "        \n",
    "coll = MyCollection()\n",
    "for x in coll: # error\n",
    "    print(x)"
   ]
  },
  {
   "cell_type": "markdown",
   "metadata": {},
   "source": [
    "# Numpy"
   ]
  },
  {
   "cell_type": "markdown",
   "metadata": {},
   "source": [
    "## Array Creation"
   ]
  },
  {
   "cell_type": "code",
   "execution_count": null,
   "metadata": {
    "ExecuteTime": {
     "end_time": "2019-11-20T08:52:05.845897Z",
     "start_time": "2019-11-20T08:52:05.831945Z"
    }
   },
   "outputs": [],
   "source": [
    "import numpy as np\n",
    "\n",
    "a = np.array([1,2,3])\n",
    "b = np.arange(10,30,5)\n",
    "print(a)\n",
    "print(b)\n",
    "\n",
    "c = np.zeros((3,4))\n",
    "d = np.ones((3,4))\n",
    "e = np.full((3,4),7)\n",
    "f = np.eye(5)\n",
    "g = np.empty((5,4))\n",
    "print(g)\n",
    "\n",
    "h = np.linspace(0,100,5)\n",
    "print(h)\n",
    "i = np.logspace(0.1,1,10)\n",
    "print(i)\n",
    "\n",
    "j = np.random.random((3,3)) # [0,1)\n",
    "k = np.random.rand(3,3)\n",
    "l = np.random.uniform(0,10,5)\n",
    "\n",
    "m = np.random.randint(2, size=(2,4))\n",
    "\n",
    "n = np.random.randn() # single value\n",
    "o = 2.5 * np.random.randn(2,4)+3\n",
    "p = np.random.normal(3,2.5,(2,4))"
   ]
  },
  {
   "cell_type": "code",
   "execution_count": null,
   "metadata": {
    "ExecuteTime": {
     "end_time": "2019-11-20T08:53:30.346608Z",
     "start_time": "2019-11-20T08:53:30.340597Z"
    }
   },
   "outputs": [],
   "source": [
    "a = np.array([[1,2,3],[4,5,6]], float)\n",
    "print(a[1,:])\n",
    "print(a[:,2])"
   ]
  },
  {
   "cell_type": "markdown",
   "metadata": {},
   "source": [
    "## Array Manipulation"
   ]
  },
  {
   "cell_type": "code",
   "execution_count": null,
   "metadata": {
    "ExecuteTime": {
     "end_time": "2019-11-20T08:57:48.466397Z",
     "start_time": "2019-11-20T08:57:48.459443Z"
    }
   },
   "outputs": [],
   "source": [
    "a = np.array(range(6), float).reshape(2,3)\n",
    "print(a)\n",
    "print(a.transpose())\n",
    "print(a.T)\n",
    "print(a.flatten())"
   ]
  },
  {
   "cell_type": "code",
   "execution_count": null,
   "metadata": {
    "ExecuteTime": {
     "end_time": "2019-11-27T07:51:11.247323Z",
     "start_time": "2019-11-27T07:51:11.208428Z"
    }
   },
   "outputs": [],
   "source": [
    "a = np.array([1,2])\n",
    "b = np.array([1,2,3])\n",
    "c = np.array([1,2,3,4])\n",
    "np.concatenate((a,b,c))"
   ]
  },
  {
   "cell_type": "code",
   "execution_count": null,
   "metadata": {
    "ExecuteTime": {
     "end_time": "2019-11-27T08:02:44.770355Z",
     "start_time": "2019-11-27T08:02:44.765353Z"
    }
   },
   "outputs": [],
   "source": [
    "np.insert()"
   ]
  },
  {
   "cell_type": "code",
   "execution_count": null,
   "metadata": {
    "ExecuteTime": {
     "end_time": "2019-11-20T08:59:48.787359Z",
     "start_time": "2019-11-20T08:59:48.781374Z"
    }
   },
   "outputs": [],
   "source": [
    "a = np.arange(12)\n",
    "a.reshape(3,-1)\n",
    "a[:,np.newaxis]"
   ]
  },
  {
   "cell_type": "code",
   "execution_count": null,
   "metadata": {
    "ExecuteTime": {
     "end_time": "2019-11-20T09:01:08.334783Z",
     "start_time": "2019-11-20T09:01:08.323800Z"
    }
   },
   "outputs": [],
   "source": [
    "a = np.ones((2,3))\n",
    "b = np.zeros((2,2))\n",
    "np.hstack((a,b))\n",
    "np.vstack((a,b))"
   ]
  },
  {
   "cell_type": "code",
   "execution_count": null,
   "metadata": {
    "ExecuteTime": {
     "end_time": "2019-11-21T02:32:16.082229Z",
     "start_time": "2019-11-21T02:32:16.072241Z"
    }
   },
   "outputs": [],
   "source": [
    "c1 = np.ones((3,4))\n",
    "c2 = np.zeros((3,4))\n",
    "c = np.dstack((c1,c2)) # dimension이 증가!\n",
    "print(c)\n",
    "print(c.shape)\n",
    "cstack = np.stack((c1,c2))\n",
    "print(cstack)\n",
    "print(cstack.shape)\n",
    "cstack2 = np.stack((c1,c2), axis=1)\n",
    "print(cstack2)\n",
    "print(cstack2.shape)"
   ]
  },
  {
   "cell_type": "code",
   "execution_count": null,
   "metadata": {
    "ExecuteTime": {
     "end_time": "2019-11-21T04:12:05.697261Z",
     "start_time": "2019-11-21T04:12:05.683326Z"
    }
   },
   "outputs": [],
   "source": [
    "a = np.array([[0,1,2],[3,4,5]])\n",
    "np.tile(a,2)\n"
   ]
  },
  {
   "cell_type": "code",
   "execution_count": null,
   "metadata": {
    "ExecuteTime": {
     "end_time": "2019-11-21T04:16:53.756889Z",
     "start_time": "2019-11-21T04:16:53.566401Z"
    }
   },
   "outputs": [],
   "source": [
    "x = np.arange(3)\n",
    "y = np.arange(5)\n",
    "X,Y = np.meshgrid(x,y)\n",
    "print(X)\n",
    "print(Y)\n",
    "import matplotlib.pyplot as plt\n",
    "%matplotlib inline\n",
    "plt.scatter(X,Y,linewidths=10)\n",
    "plt.show()\n",
    "[list(zip(x,y)) for x,y in zip(X,Y)]"
   ]
  },
  {
   "cell_type": "code",
   "execution_count": null,
   "metadata": {
    "ExecuteTime": {
     "end_time": "2019-11-21T04:19:44.970327Z",
     "start_time": "2019-11-21T04:19:44.963344Z"
    }
   },
   "outputs": [],
   "source": [
    "a = np.array([1,2,3], float)\n",
    "b = np.array([5,2,6], float)\n",
    "print(a+b)\n",
    "print(b/a)\n",
    "print(a%b)"
   ]
  },
  {
   "cell_type": "markdown",
   "metadata": {},
   "source": [
    "### Iteration"
   ]
  },
  {
   "cell_type": "code",
   "execution_count": null,
   "metadata": {
    "ExecuteTime": {
     "end_time": "2019-11-21T04:28:12.891503Z",
     "start_time": "2019-11-21T04:28:12.885521Z"
    }
   },
   "outputs": [],
   "source": [
    "a = np.array([[1,2],[3,4],[5,6]], float)\n",
    "print(a)\n",
    "for x in a:\n",
    "    print(\"****\")\n",
    "    for y in x:\n",
    "        print(y)\n",
    "        print(\"----\")"
   ]
  },
  {
   "cell_type": "markdown",
   "metadata": {},
   "source": [
    "### Numpy File IO"
   ]
  },
  {
   "cell_type": "code",
   "execution_count": null,
   "metadata": {
    "ExecuteTime": {
     "end_time": "2019-11-21T04:31:38.542422Z",
     "start_time": "2019-11-21T04:31:38.481586Z"
    }
   },
   "outputs": [],
   "source": [
    "b = np.loadtxt(fname = r\"c:\\Users\\aaa\\foo.txt\", delimiter=',')"
   ]
  },
  {
   "cell_type": "markdown",
   "metadata": {},
   "source": [
    "## Array Statistics"
   ]
  },
  {
   "cell_type": "code",
   "execution_count": null,
   "metadata": {
    "ExecuteTime": {
     "end_time": "2019-11-21T04:33:22.337729Z",
     "start_time": "2019-11-21T04:33:22.327756Z"
    }
   },
   "outputs": [],
   "source": [
    "a = np.array([2,4,3], float)\n",
    "print(a.sum())\n",
    "print(a.prod())\n",
    "print(a.mean())\n",
    "print(a.var())\n",
    "print(a.std())\n",
    "print(np.median(a))"
   ]
  },
  {
   "cell_type": "code",
   "execution_count": null,
   "metadata": {
    "ExecuteTime": {
     "end_time": "2019-11-21T04:34:35.870421Z",
     "start_time": "2019-11-21T04:34:35.863443Z"
    }
   },
   "outputs": [],
   "source": [
    "x = np.array([[1,2],[3,4]])\n",
    "print(np.sum(x))\n",
    "print(np.sum(x,axis=0))\n",
    "print(np.sum(x,axis=1))"
   ]
  },
  {
   "cell_type": "code",
   "execution_count": null,
   "metadata": {
    "ExecuteTime": {
     "end_time": "2019-11-21T04:47:23.279750Z",
     "start_time": "2019-11-21T04:47:23.255813Z"
    }
   },
   "outputs": [],
   "source": [
    "# correlation, covariance\n",
    "a = np.array([[1,2,1,3],[5,3,1,8]], float)\n",
    "c = np.corrcoef(a)\n",
    "c"
   ]
  },
  {
   "cell_type": "code",
   "execution_count": null,
   "metadata": {
    "ExecuteTime": {
     "end_time": "2019-11-21T04:51:23.456490Z",
     "start_time": "2019-11-21T04:51:23.450507Z"
    }
   },
   "outputs": [],
   "source": [
    "np.cov(a)"
   ]
  },
  {
   "cell_type": "code",
   "execution_count": null,
   "metadata": {
    "ExecuteTime": {
     "end_time": "2019-11-21T05:10:57.687088Z",
     "start_time": "2019-11-21T05:10:57.680107Z"
    }
   },
   "outputs": [],
   "source": [
    "# for vector\n",
    "a = np.array([1,2,3])\n",
    "b = np.array([0,1,1])\n",
    "print(np.dot(a,b))\n",
    "print(np.inner(a,b))\n",
    "print(np.outer(a,b))\n",
    "print(np.cross(a,b))"
   ]
  },
  {
   "cell_type": "code",
   "execution_count": null,
   "metadata": {
    "ExecuteTime": {
     "end_time": "2019-11-21T05:12:56.108561Z",
     "start_time": "2019-11-21T05:12:56.101578Z"
    }
   },
   "outputs": [],
   "source": [
    "#for matrix\n",
    "a = np.array([[0,1],[2,3]])\n",
    "b = np.array([[2,3]])\n",
    "c = np.array([[1,1],[4,0]])\n",
    "print(np.dot(b,a))\n",
    "print(np.matmul(b,a))"
   ]
  },
  {
   "cell_type": "markdown",
   "metadata": {},
   "source": [
    "# Pandas"
   ]
  },
  {
   "cell_type": "markdown",
   "metadata": {},
   "source": [
    "## Series Object"
   ]
  },
  {
   "cell_type": "markdown",
   "metadata": {},
   "source": [
    "### Creation"
   ]
  },
  {
   "cell_type": "code",
   "execution_count": null,
   "metadata": {
    "ExecuteTime": {
     "end_time": "2019-11-21T05:24:28.750404Z",
     "start_time": "2019-11-21T05:24:28.740431Z"
    }
   },
   "outputs": [],
   "source": [
    "import pandas as pd\n",
    "import numpy as np\n",
    "s = pd.Series([1,3,5,np.nan,6,8])\n",
    "print(s)\n",
    "np_s = np.array([1,3,5,np.nan,6,8])\n",
    "print(np_s)\n",
    "pd_s = pd.Series(np_s)\n",
    "print(pd_s)"
   ]
  },
  {
   "cell_type": "code",
   "execution_count": null,
   "metadata": {
    "ExecuteTime": {
     "end_time": "2019-11-21T05:28:35.991540Z",
     "start_time": "2019-11-21T05:28:35.978576Z"
    }
   },
   "outputs": [],
   "source": [
    "d = {'a':0, 'b':1, 'c':2}\n",
    "pd.Series(d)"
   ]
  },
  {
   "cell_type": "code",
   "execution_count": null,
   "metadata": {
    "ExecuteTime": {
     "end_time": "2019-11-21T05:31:27.837510Z",
     "start_time": "2019-11-21T05:31:27.823548Z"
    }
   },
   "outputs": [],
   "source": [
    "sdata = {'Ohio':1000,'Texas':2000,'Oregon':3000,'Utah':4000}\n",
    "obj = pd.Series(sdata)\n",
    "print(obj)\n",
    "states = ['California', 'Ohio','Oregon','Texas']\n",
    "obj2 = pd.Series(sdata,index=states)\n",
    "print(obj2)"
   ]
  },
  {
   "cell_type": "markdown",
   "metadata": {},
   "source": [
    "### Null Check"
   ]
  },
  {
   "cell_type": "code",
   "execution_count": null,
   "metadata": {
    "ExecuteTime": {
     "end_time": "2019-11-21T05:32:04.577795Z",
     "start_time": "2019-11-21T05:32:04.570814Z"
    }
   },
   "outputs": [],
   "source": [
    "pd.isnull(obj2)"
   ]
  },
  {
   "cell_type": "code",
   "execution_count": null,
   "metadata": {
    "ExecuteTime": {
     "end_time": "2019-11-21T05:32:26.960022Z",
     "start_time": "2019-11-21T05:32:26.955035Z"
    }
   },
   "outputs": [],
   "source": [
    "obj2.isnull()"
   ]
  },
  {
   "cell_type": "code",
   "execution_count": null,
   "metadata": {
    "ExecuteTime": {
     "end_time": "2019-11-21T05:32:56.273233Z",
     "start_time": "2019-11-21T05:32:56.267250Z"
    }
   },
   "outputs": [],
   "source": [
    "obj2.notnull()"
   ]
  },
  {
   "cell_type": "markdown",
   "metadata": {},
   "source": [
    "## Dataframe"
   ]
  },
  {
   "cell_type": "markdown",
   "metadata": {},
   "source": [
    "### Creation"
   ]
  },
  {
   "cell_type": "code",
   "execution_count": null,
   "metadata": {
    "ExecuteTime": {
     "end_time": "2019-11-21T06:25:30.115724Z",
     "start_time": "2019-11-21T06:25:30.104752Z"
    }
   },
   "outputs": [],
   "source": [
    "import pandas as pd\n",
    "sales_stats = {'Day':[1,2,3,4,5,6],'Visitors':[43,45,33,43,78,44],'Revenue':[64,73,62,64,53,66]}\n",
    "df = pd.DataFrame(sales_stats)\n",
    "df"
   ]
  },
  {
   "cell_type": "markdown",
   "metadata": {},
   "source": [
    "### Index setting"
   ]
  },
  {
   "cell_type": "code",
   "execution_count": null,
   "metadata": {
    "ExecuteTime": {
     "end_time": "2019-11-21T06:03:15.421584Z",
     "start_time": "2019-11-21T06:03:15.409586Z"
    }
   },
   "outputs": [],
   "source": [
    "df.loc[0] # 자동 index"
   ]
  },
  {
   "cell_type": "code",
   "execution_count": null,
   "metadata": {
    "ExecuteTime": {
     "end_time": "2019-11-21T06:14:03.687139Z",
     "start_time": "2019-11-21T06:14:03.670184Z"
    }
   },
   "outputs": [],
   "source": [
    "df = df.set_index('Day')\n",
    "df"
   ]
  },
  {
   "cell_type": "markdown",
   "metadata": {},
   "source": [
    "### Accessing Rows/Columns"
   ]
  },
  {
   "cell_type": "code",
   "execution_count": null,
   "metadata": {
    "ExecuteTime": {
     "end_time": "2019-11-21T06:14:36.122970Z",
     "start_time": "2019-11-21T06:14:36.116987Z"
    }
   },
   "outputs": [],
   "source": [
    "df['Visitors']"
   ]
  },
  {
   "cell_type": "code",
   "execution_count": null,
   "metadata": {
    "ExecuteTime": {
     "end_time": "2019-11-21T06:14:56.507165Z",
     "start_time": "2019-11-21T06:14:56.502147Z"
    }
   },
   "outputs": [],
   "source": [
    "df.loc[3]"
   ]
  },
  {
   "cell_type": "code",
   "execution_count": null,
   "metadata": {},
   "outputs": [],
   "source": [
    "df.loc[3:4]"
   ]
  },
  {
   "cell_type": "code",
   "execution_count": null,
   "metadata": {
    "ExecuteTime": {
     "end_time": "2019-11-21T06:15:08.906299Z",
     "start_time": "2019-11-21T06:15:08.900310Z"
    }
   },
   "outputs": [],
   "source": [
    "df.iloc[2]"
   ]
  },
  {
   "cell_type": "code",
   "execution_count": null,
   "metadata": {
    "ExecuteTime": {
     "end_time": "2019-11-21T06:15:32.547925Z",
     "start_time": "2019-11-21T06:15:32.540945Z"
    }
   },
   "outputs": [],
   "source": [
    "df[1:2]"
   ]
  },
  {
   "cell_type": "code",
   "execution_count": null,
   "metadata": {
    "ExecuteTime": {
     "end_time": "2019-11-21T06:16:23.032719Z",
     "start_time": "2019-11-21T06:16:23.021762Z"
    }
   },
   "outputs": [],
   "source": [
    "df[[True,False,True,False,True,True]]"
   ]
  },
  {
   "cell_type": "code",
   "execution_count": null,
   "metadata": {
    "ExecuteTime": {
     "end_time": "2019-11-21T06:19:04.586698Z",
     "start_time": "2019-11-21T06:19:04.579714Z"
    }
   },
   "outputs": [],
   "source": [
    "df['Revenue']>62"
   ]
  },
  {
   "cell_type": "code",
   "execution_count": null,
   "metadata": {
    "ExecuteTime": {
     "end_time": "2019-11-21T06:21:15.304348Z",
     "start_time": "2019-11-21T06:21:15.293432Z"
    }
   },
   "outputs": [],
   "source": [
    "df[(df['Revenue']>62)&(df['Visitors']<44)]\n",
    "df[(df['Revenue']>62)|(df['Visitors']<44)]"
   ]
  },
  {
   "cell_type": "markdown",
   "metadata": {},
   "source": [
    "### Manipulation"
   ]
  },
  {
   "cell_type": "code",
   "execution_count": null,
   "metadata": {
    "ExecuteTime": {
     "end_time": "2019-11-21T06:27:15.240929Z",
     "start_time": "2019-11-21T06:27:15.230955Z"
    }
   },
   "outputs": [],
   "source": [
    "# column 순서 변경 및 신규컬럼\n",
    "df2 = pd.DataFrame(df, columns=['Revenue','Visitors','Debt'])\n",
    "df2"
   ]
  },
  {
   "cell_type": "code",
   "execution_count": null,
   "metadata": {
    "ExecuteTime": {
     "end_time": "2019-11-21T06:27:16.076693Z",
     "start_time": "2019-11-21T06:27:16.068715Z"
    }
   },
   "outputs": [],
   "source": [
    "del df2['Debt']\n",
    "df2"
   ]
  },
  {
   "cell_type": "code",
   "execution_count": null,
   "metadata": {
    "ExecuteTime": {
     "end_time": "2019-11-21T06:34:05.666480Z",
     "start_time": "2019-11-21T06:34:05.656508Z"
    }
   },
   "outputs": [],
   "source": [
    "df3 = pd.DataFrame(df, columns=['Revenue','Visitors','Debt'])\n",
    "df3"
   ]
  },
  {
   "cell_type": "code",
   "execution_count": null,
   "metadata": {
    "ExecuteTime": {
     "end_time": "2019-11-21T06:34:44.710562Z",
     "start_time": "2019-11-21T06:34:44.700590Z"
    }
   },
   "outputs": [],
   "source": [
    "df3.drop('Debt', axis=1)"
   ]
  },
  {
   "cell_type": "code",
   "execution_count": null,
   "metadata": {
    "ExecuteTime": {
     "end_time": "2019-11-21T06:35:51.771913Z",
     "start_time": "2019-11-21T06:35:51.763933Z"
    }
   },
   "outputs": [],
   "source": [
    "df"
   ]
  },
  {
   "cell_type": "code",
   "execution_count": null,
   "metadata": {
    "ExecuteTime": {
     "end_time": "2019-11-21T06:53:50.516314Z",
     "start_time": "2019-11-21T06:53:50.507362Z"
    }
   },
   "outputs": [],
   "source": [
    "#row 추가\n",
    "df.loc[6]=[7,50,49]\n",
    "df"
   ]
  },
  {
   "cell_type": "code",
   "execution_count": null,
   "metadata": {
    "ExecuteTime": {
     "end_time": "2019-11-21T07:08:56.156284Z",
     "start_time": "2019-11-21T07:08:56.151278Z"
    }
   },
   "outputs": [],
   "source": [
    "df.drop(6,axis=0)\n",
    "df2 = df.set_index('Day')"
   ]
  },
  {
   "cell_type": "code",
   "execution_count": null,
   "metadata": {
    "ExecuteTime": {
     "end_time": "2019-11-21T07:09:12.464843Z",
     "start_time": "2019-11-21T07:09:12.454860Z"
    }
   },
   "outputs": [],
   "source": [
    "# rename row\n",
    "cols = {'Day':'co1', 'Visitors':'col2', 'Revenue':'col3'}\n",
    "df.rename(columns=cols)"
   ]
  },
  {
   "cell_type": "code",
   "execution_count": null,
   "metadata": {
    "ExecuteTime": {
     "end_time": "2019-11-21T07:09:21.997500Z",
     "start_time": "2019-11-21T07:09:21.988492Z"
    }
   },
   "outputs": [],
   "source": [
    "df2.rename(columns = cols)"
   ]
  },
  {
   "cell_type": "markdown",
   "metadata": {},
   "source": [
    "### Groubby and Aggregation"
   ]
  },
  {
   "cell_type": "code",
   "execution_count": null,
   "metadata": {
    "ExecuteTime": {
     "end_time": "2019-11-21T10:22:40.853648Z",
     "start_time": "2019-11-21T10:22:40.842237Z"
    }
   },
   "outputs": [],
   "source": [
    "import pandas as pd\n",
    "df = pd.DataFrame({'A':['foo','bar','foo','bar','foo','bar','foo','foo'],\n",
    "                  'B':['one','one','two','three','two','two','one','three'],\n",
    "                  'C':np.random.randn(8),'D':np.random.randn(8)})\n",
    "grouped = df.groupby(['A','B'])\n",
    "grouped.mean()"
   ]
  },
  {
   "cell_type": "code",
   "execution_count": null,
   "metadata": {
    "ExecuteTime": {
     "end_time": "2019-11-21T10:22:42.953151Z",
     "start_time": "2019-11-21T10:22:42.945594Z"
    }
   },
   "outputs": [],
   "source": [
    "grouped.sum()"
   ]
  },
  {
   "cell_type": "code",
   "execution_count": null,
   "metadata": {
    "ExecuteTime": {
     "end_time": "2019-11-21T10:24:20.334840Z",
     "start_time": "2019-11-21T10:24:20.327151Z"
    }
   },
   "outputs": [],
   "source": [
    "grouped = df.groupby('A')\n",
    "grouped.get_group('bar')"
   ]
  },
  {
   "cell_type": "code",
   "execution_count": null,
   "metadata": {},
   "outputs": [],
   "source": []
  }
 ],
 "metadata": {
  "hide_input": false,
  "kernelspec": {
   "display_name": "Anaconda3 full",
   "language": "python",
   "name": "anaconda3"
  },
  "language_info": {
   "codemirror_mode": {
    "name": "ipython",
    "version": 3
   },
   "file_extension": ".py",
   "mimetype": "text/x-python",
   "name": "python",
   "nbconvert_exporter": "python",
   "pygments_lexer": "ipython3",
   "version": "3.7.7"
  },
  "toc": {
   "base_numbering": 1,
   "nav_menu": {},
   "number_sections": true,
   "sideBar": true,
   "skip_h1_title": false,
   "title_cell": "Table of Contents",
   "title_sidebar": "Contents",
   "toc_cell": false,
   "toc_position": {
    "height": "calc(100% - 180px)",
    "left": "10px",
    "top": "150px",
    "width": "216px"
   },
   "toc_section_display": true,
   "toc_window_display": true
  },
  "toc-autonumbering": true,
  "toc-showcode": false,
  "toc-showmarkdowntxt": false,
  "toc-showtags": false,
  "varInspector": {
   "cols": {
    "lenName": 16,
    "lenType": 16,
    "lenVar": 40
   },
   "kernels_config": {
    "python": {
     "delete_cmd_postfix": "",
     "delete_cmd_prefix": "del ",
     "library": "var_list.py",
     "varRefreshCmd": "print(var_dic_list())"
    },
    "r": {
     "delete_cmd_postfix": ") ",
     "delete_cmd_prefix": "rm(",
     "library": "var_list.r",
     "varRefreshCmd": "cat(var_dic_list()) "
    }
   },
   "types_to_exclude": [
    "module",
    "function",
    "builtin_function_or_method",
    "instance",
    "_Feature"
   ],
   "window_display": false
  }
 },
 "nbformat": 4,
 "nbformat_minor": 4
}
