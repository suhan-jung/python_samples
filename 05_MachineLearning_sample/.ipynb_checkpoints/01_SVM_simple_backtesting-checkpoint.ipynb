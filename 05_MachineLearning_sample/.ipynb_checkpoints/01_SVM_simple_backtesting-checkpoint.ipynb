{
 "cells": [
  {
   "cell_type": "code",
   "execution_count": null,
   "metadata": {},
   "outputs": [],
   "source": [
    "import numpy as np  # NumPy\n",
    "import pandas as pd  # pandas\n",
    "import cufflinks as cf  # Cufflinks\n",
    "from sklearn.svm import SVC  # sckikit-learn\n",
    "import warnings; warnings.simplefilter('ignore')\n",
    "from statsmodels.tsa.stattools import adfuller\n",
    "import configparser as cp"
   ]
  },
  {
   "cell_type": "code",
   "execution_count": null,
   "metadata": {},
   "outputs": [],
   "source": [
    "ktb = pd.read_csv('./csv/KTB_1m_1d.csv')\n",
    "lktb = pd.read_csv('./csv/LKTB_1m_1d.csv')\n",
    "k200 = pd.read_csv('./csv/K200_1m_1d.csv')"
   ]
  },
  {
   "cell_type": "code",
   "execution_count": null,
   "metadata": {},
   "outputs": [],
   "source": [
    "data = pd.DataFrame()\n",
    "data['Date'] = pd.to_datetime(ktb['DATE'] + ' ' + ktb['TIME'])\n",
    "data['KTB'] = ktb['CLOSE']\n",
    "data['LKTB'] = lktb['CLOSE']\n",
    "data['K200'] = k200['CLOSE']\n",
    "data.set_index('Date',inplace=True)\n",
    "data"
   ]
  },
  {
   "cell_type": "code",
   "execution_count": null,
   "metadata": {},
   "outputs": [],
   "source": [
    "returns = np.log(data / data.shift(1)).dropna()\n",
    "returns.head()"
   ]
  },
  {
   "cell_type": "code",
   "execution_count": null,
   "metadata": {},
   "outputs": [],
   "source": [
    "adfuller(data['KTB']) #test for stationarity of time series"
   ]
  },
  {
   "cell_type": "code",
   "execution_count": null,
   "metadata": {},
   "outputs": [],
   "source": [
    "adfuller(returns['KTB'])"
   ]
  },
  {
   "cell_type": "code",
   "execution_count": null,
   "metadata": {},
   "outputs": [],
   "source": [
    "data.normalize().iplot(kind='line')"
   ]
  },
  {
   "cell_type": "code",
   "execution_count": null,
   "metadata": {},
   "outputs": [],
   "source": [
    "returns.iplot(kind='histogram', subplots=True)"
   ]
  },
  {
   "cell_type": "code",
   "execution_count": null,
   "metadata": {},
   "outputs": [],
   "source": [
    "# lagging된 data를 구하기 위한 함수 : df\n",
    "def add_lags(data, ric, lags):\n",
    "    cols = []\n",
    "    df = pd.DataFrame(data[ric])\n",
    "    for lag in range(1, lags + 1):\n",
    "        col = 'lag_{}'.format(lag)  # defines the column name\n",
    "        # creates the lagged data column with directional values\n",
    "        df[col] = df[ric].shift(lag)\n",
    "        cols.append(col)  # stores the column name\n",
    "    df.dropna(inplace=True)  # gets rid of incomplete data rows\n",
    "    return df, cols"
   ]
  },
  {
   "cell_type": "code",
   "execution_count": null,
   "metadata": {},
   "outputs": [],
   "source": [
    "rics=[\n",
    "    'KTB',\n",
    "    'LKTB',\n",
    "    'K200'\n",
    "]\n",
    "dfs = {}\n",
    "lags = 5\n",
    "for ric in rics:\n",
    "    df, cols = add_lags(returns, ric, lags)\n",
    "    dfs[ric] = df"
   ]
  },
  {
   "cell_type": "code",
   "execution_count": null,
   "metadata": {},
   "outputs": [],
   "source": [
    "print(cols)\n",
    "print(dfs.keys())\n",
    "dfs['LKTB']"
   ]
  },
  {
   "cell_type": "code",
   "execution_count": null,
   "metadata": {},
   "outputs": [],
   "source": [
    "# SVM (Support Vector Machine) 모델에 래깅한 5개 수익율의 부호를 x로 하고 해당 시점의 수익율의 부호를 y로 하여 학습\n",
    "# 학습후 다시 그 데이터(래깅한 5개 수익율의 부호)를 입력으로 하여 predict -> 오버피팅 이지만 일단 해본다.\n",
    "for ric in rics:\n",
    "    model = SVC(C=100) # the ML model\n",
    "    df = dfs[ric].copy()  # getting data for the RIC\n",
    "    model.fit(np.sign(df[cols]), np.sign(df[ric]))  # model fitting\n",
    "    dfs[ric]['position'] = model.predict(np.sign(df[cols]))  # prediction"
   ]
  },
  {
   "cell_type": "code",
   "execution_count": null,
   "metadata": {},
   "outputs": [],
   "source": [
    "for ric in rics:\n",
    "    print('{:10} | {}'.format(ric, dfs[ric]['position'].values[:12])) # predict한 것의 최초 12개씩을 보면"
   ]
  },
  {
   "cell_type": "code",
   "execution_count": null,
   "metadata": {},
   "outputs": [],
   "source": [
    "# 예측한 포지션(롱or숏)에 해당시점의 수익율을 각각 곱해서 전략적용 각 시점 수익율을 구한다.\n",
    "for ric in rics:\n",
    "    dfs[ric]['strategy'] = dfs[ric]['position'] * dfs[ric][ric] "
   ]
  },
  {
   "cell_type": "code",
   "execution_count": null,
   "metadata": {},
   "outputs": [],
   "source": [
    "# 전략적용 각 시점 누적 수익율 plotting. 학습data로 예측을 했으니 당연히 잘나옴.\n",
    "for ric in rics:\n",
    "    dfs[ric][[ric, 'strategy']].cumsum().apply(np.exp).iplot()"
   ]
  },
  {
   "cell_type": "code",
   "execution_count": null,
   "metadata": {},
   "outputs": [],
   "source": [
    "# 문제점 해결을 위해 train / test dataset을 나눈다.\n",
    "split = int(len(data)/2)\n",
    "\n",
    "# train / test 데이터가 구별되도록 visualize 한다.\n",
    "vspan = [{'x0': data.index[0], 'x1': data.index[split], 'color': 'green', 'fill': True, 'opacity': .2},\n",
    "        {'x0': data.index[split], 'x1': data.index[-1], 'color': 'red', 'fill': True, 'opacity': .2}]\n",
    "\n",
    "data.normalize().iplot(vspan=vspan)"
   ]
  },
  {
   "cell_type": "code",
   "execution_count": null,
   "metadata": {},
   "outputs": [],
   "source": [
    "# train dataset으로 학습하고 나온 pred(롱/숏)에 해당수익율(test_y)를 곱해서 전략적용 수익율을 구함\n",
    "res = {}\n",
    "for ric in rics:\n",
    "    model = SVC(C=100) # the ML model\n",
    "    df = dfs[ric].copy()  # getting data for the RIC\n",
    "    split = int(len(df) / 2)\n",
    "    train_x = np.sign(df[cols]).iloc[:split]\n",
    "    train_y = np.sign(df[ric]).iloc[:split]\n",
    "    test_x = np.sign(df[cols]).iloc[split:]\n",
    "    test_y = df[ric].iloc[split:]\n",
    "    model.fit(train_x, train_y)  # model fitting\n",
    "    pred = model.predict(test_x)  # prediction\n",
    "    strat = pred * test_y\n",
    "    res[ric] = pd.DataFrame({ric: test_y,\n",
    "                             'pred': pred,\n",
    "                             'strategy': strat})"
   ]
  },
  {
   "cell_type": "code",
   "execution_count": null,
   "metadata": {},
   "outputs": [],
   "source": [
    "res['KTB'].head()"
   ]
  },
  {
   "cell_type": "code",
   "execution_count": null,
   "metadata": {},
   "outputs": [],
   "source": [
    "# 시점별 누적수익율 plotting.... not bad!??!\n",
    "for ric in rics:\n",
    "    res[ric][[ric, 'strategy']].cumsum().apply(np.exp).iplot()"
   ]
  },
  {
   "cell_type": "code",
   "execution_count": null,
   "metadata": {},
   "outputs": [],
   "source": []
  }
 ],
 "metadata": {
  "kernelspec": {
   "display_name": "Anaconda3 full",
   "language": "python",
   "name": "anaconda3"
  },
  "language_info": {
   "codemirror_mode": {
    "name": "ipython",
    "version": 3
   },
   "file_extension": ".py",
   "mimetype": "text/x-python",
   "name": "python",
   "nbconvert_exporter": "python",
   "pygments_lexer": "ipython3",
   "version": "3.7.7"
  }
 },
 "nbformat": 4,
 "nbformat_minor": 4
}
