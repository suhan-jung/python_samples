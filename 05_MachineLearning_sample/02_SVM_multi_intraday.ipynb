{
 "cells": [
  {
   "cell_type": "markdown",
   "metadata": {},
   "source": [
    "# SVM(Support Vector Machine) / multi-intraday data"
   ]
  },
  {
   "cell_type": "code",
   "execution_count": null,
   "metadata": {},
   "outputs": [],
   "source": [
    "# import packages\n",
    "import numpy as np  # NumPy\n",
    "import pandas as pd  # pandas\n",
    "import cufflinks as cf  # Cufflinks\n",
    "from sklearn.svm import SVC  # sckikit-learn\n",
    "import warnings; warnings.simplefilter('ignore')\n",
    "from statsmodels.tsa.stattools import adfuller\n",
    "import configparser as cp\n",
    "import matplotlib.pyplot as plt\n",
    "plt.style.use('seaborn')\n",
    "plt.rcParams['figure.figsize'] = [16, 9]\n",
    "plt.rcParams['figure.dpi'] = 200"
   ]
  },
  {
   "cell_type": "code",
   "execution_count": null,
   "metadata": {},
   "outputs": [],
   "source": [
    "#load datasets\n",
    "ktb = pd.read_csv('./csv/KTB_1m.csv')\n",
    "lktb = pd.read_csv('./csv/LKTB_1m.csv')\n",
    "k200 = pd.read_csv('./csv/K200_1m.csv')"
   ]
  },
  {
   "cell_type": "code",
   "execution_count": null,
   "metadata": {},
   "outputs": [],
   "source": [
    "# 인포맥스 data 전처리를 위한 함수. Date와 Time을 합쳐 DateTimeIndex를 만듭니다.\n",
    "def pre_infomax(df):\n",
    "    df['DATETIME'] = pd.to_datetime(df['DATE'] + ' ' + df['TIME'])\n",
    "    df.drop(['DATE', 'TIME'], axis=1, inplace=True)\n",
    "    df.rename(columns={'DATETIME':'DATE'}, inplace=True)\n",
    "    df.set_index('DATE', inplace=True)"
   ]
  },
  {
   "cell_type": "code",
   "execution_count": null,
   "metadata": {},
   "outputs": [],
   "source": [
    "# lagged 수익율 컬럼 추가 함수. 여러날짜의 일중data이므로 날짜사이에는 lagging되지 않도록 짤라주는? 기능 포함.\n",
    "def pre_intraday(df, lags):\n",
    "    result = pd.DataFrame()\n",
    "    dates = np.unique(df.index.date)\n",
    "    for date in dates:\n",
    "        data = df.loc[date.isoformat()]\n",
    "        data['RETURN'] = np.log(data['CLOSE'] / data['CLOSE'].shift(1))\n",
    "        data['RETURN_INTRADAY'] = np.log(data['CLOSE'] / data['OPEN'])\n",
    "        cols=[]\n",
    "        # lags = 5\n",
    "        for lag in range(1, lags + 1):\n",
    "            col = 'lag{}'.format(lag)\n",
    "            data[col] = data['RETURN'].shift(lag)\n",
    "            cols.append(col)\n",
    "        result = result.append(data)\n",
    "    return result.dropna(), cols"
   ]
  },
  {
   "cell_type": "code",
   "execution_count": null,
   "metadata": {},
   "outputs": [],
   "source": [
    "# SVM으로 train시키고, 예측한후 결과 plot하는 함수. SVM의 파라미터인 C를 입력받는다. 일반 plot()버전\n",
    "def svm_plot(df, cols, title, svm_c):\n",
    "    model = SVC(C=svm_c)\n",
    "    split = int(len(df)/2)\n",
    "    train_x = np.sign(df[cols]).iloc[:split]\n",
    "    train_y = np.sign(df['RETURN']).iloc[:split]\n",
    "    test_x = np.sign(df[cols]).iloc[split:]\n",
    "    test_y = df['RETURN'].iloc[split:]\n",
    "    real_y = df['RETURN_INTRADAY'].iloc[split:]\n",
    "    model.fit(train_x, train_y)\n",
    "    pred = model.predict(test_x)\n",
    "    strat = pred * real_y\n",
    "    res = pd.DataFrame({\n",
    "        'Market': test_y,\n",
    "        'Prediction' : pred,\n",
    "        'Strategy' : strat\n",
    "    })\n",
    "    res[['BM', 'Return']] = res[['Market', 'Strategy']].cumsum().apply(np.exp)\n",
    "    layout = dict(\n",
    "        title=title,\n",
    "        xaxis=dict(\n",
    "            type='category'\n",
    "        )\n",
    "    )\n",
    "    res[['BM', 'Return']].plot()\n",
    "    return res"
   ]
  },
  {
   "cell_type": "code",
   "execution_count": null,
   "metadata": {},
   "outputs": [],
   "source": [
    "# SVM으로 train시키고, 예측한후 결과 plot하는 함수. SVM의 파라미터인 C를 입력받는다. plotly iplot()버전\n",
    "def svm_iplot(df, cols, title, svm_c):\n",
    "    model = SVC(C=svm_c)\n",
    "    split = int(len(df)/2)\n",
    "    train_x = np.sign(df[cols]).iloc[:split]\n",
    "    train_y = np.sign(df['RETURN']).iloc[:split]\n",
    "    test_x = np.sign(df[cols]).iloc[split:]\n",
    "    test_y = df['RETURN'].iloc[split:]\n",
    "    real_y = df['RETURN_INTRADAY'].iloc[split:]\n",
    "    model.fit(train_x, train_y)\n",
    "    pred = model.predict(test_x)\n",
    "    strat = pred * real_y\n",
    "    res = pd.DataFrame({\n",
    "        'Market': test_y,\n",
    "        'Prediction' : pred,\n",
    "        'Strategy' : strat\n",
    "    })\n",
    "    res[['BM', 'Return']] = res[['Market', 'Strategy']].cumsum().apply(np.exp)\n",
    "    layout = dict(\n",
    "        title=title,\n",
    "        xaxis=dict(\n",
    "            type='category'\n",
    "        )\n",
    "    )\n",
    "    res[['BM', 'Return']].iplot(layout=layout)\n",
    "    return res"
   ]
  },
  {
   "cell_type": "code",
   "execution_count": null,
   "metadata": {},
   "outputs": [],
   "source": [
    "# 주요값 설정, lag수, hyperparameter C list\n",
    "lags = 5\n",
    "#c_param = [1,5,10,20,50,100]\n",
    "c_param = [1,10,100]"
   ]
  },
  {
   "cell_type": "code",
   "execution_count": null,
   "metadata": {},
   "outputs": [],
   "source": [
    "pre_infomax(lktb)\n",
    "lktb_out, lktb_cols = pre_intraday(lktb, lags)\n",
    "result = {}\n",
    "for c in c_param:\n",
    "    result[c] = svm_iplot(lktb_out, lktb_cols, \"KTB 10y with C=%d\" %c, c)"
   ]
  },
  {
   "cell_type": "code",
   "execution_count": null,
   "metadata": {},
   "outputs": [],
   "source": [
    "# KOSPI200 선물\n",
    "pre_infomax(k200)\n",
    "k200_out, k200_cols = pre_intraday(k200, lags)\n",
    "result = {}\n",
    "for c in c_param:\n",
    "    result[c] = svm_iplot(k200_out, k200_cols, \"KOSPI 200 with C=%d\" %c, c)"
   ]
  },
  {
   "cell_type": "code",
   "execution_count": null,
   "metadata": {},
   "outputs": [],
   "source": [
    "# KTB3년선물\n",
    "pre_infomax(ktb)\n",
    "ktb_out, ktb_cols = pre_intraday(ktb, lags)\n",
    "result = {}\n",
    "for c in c_param:\n",
    "    result[c] = svm_iplot(ktb_out, ktb_cols, \"KTB 3y with C=%d\" % c, c)"
   ]
  },
  {
   "cell_type": "code",
   "execution_count": null,
   "metadata": {},
   "outputs": [],
   "source": []
  }
 ],
 "metadata": {
  "kernelspec": {
   "display_name": "Anaconda3 full",
   "language": "python",
   "name": "anaconda3"
  },
  "language_info": {
   "codemirror_mode": {
    "name": "ipython",
    "version": 3
   },
   "file_extension": ".py",
   "mimetype": "text/x-python",
   "name": "python",
   "nbconvert_exporter": "python",
   "pygments_lexer": "ipython3",
   "version": "3.7.7"
  }
 },
 "nbformat": 4,
 "nbformat_minor": 4
}
